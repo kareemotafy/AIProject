{
 "cells": [
  {
   "cell_type": "code",
   "execution_count": 1,
   "metadata": {},
   "outputs": [],
   "source": [
    "import os\n",
    "import cv2\n",
    "import numpy as np\n",
    "from sklearn.model_selection import train_test_split\n",
    "from sklearn.neighbors import KNeighborsClassifier\n",
    "from sklearn.metrics import accuracy_score\n",
    "from sklearn.decomposition import PCA\n",
    "\n",
    "def flatten_image(image):\n",
    "    return np.array(image).flatten()\n",
    "\n",
    "def flatten_images(images):\n",
    "    return np.array([flatten_image(image) for image in images])"
   ]
  },
  {
   "cell_type": "code",
   "execution_count": 2,
   "metadata": {},
   "outputs": [],
   "source": [
    "def read_image(class_path, image_file):\n",
    "    image_path = os.path.join(class_path, image_file)\n",
    "    return cv2.imread(image_path, cv2.IMREAD_GRAYSCALE)\n",
    "\n",
    "class_labels_list = []\n",
    "images_list = []\n",
    "\n",
    "data_directory = './dataset/'\n",
    "\n",
    "#missing O\n",
    "directories = ['@', \"&\", \"#\", \"$\", 'A', 'B', 'C', 'D', 'E', 'F', 'G', 'H', 'I', 'J', 'K','L','M','N','P','Q','R','S','T','U','V','W','X','Y','Z','0','1','2','3','4','5','6','7','8','9']\n",
    "\n",
    "for class_label, class_name in enumerate(directories):\n",
    "    class_path = os.path.join(data_directory, class_name)\n",
    "    for image_file in os.listdir(class_path):\n",
    "        if image_file.endswith('.jpg'):\n",
    "            image = read_image(class_path, image_file)\n",
    "            images_list.append(image)\n",
    "            class_labels_list.append(class_label)\n",
    "\n",
    "data_x = images_list\n",
    "data_y = class_labels_list\n",
    "\n",
    "X_train, X_test, y_train, y_test = train_test_split(data_x,data_y, \n",
    "                                                    test_size=0.25, \n",
    "                                                    random_state=13)\n"
   ]
  },
  {
   "cell_type": "code",
   "execution_count": 4,
   "metadata": {},
   "outputs": [],
   "source": [
    "pca = PCA(n_components=50).fit(flatten_images(X_train))\n",
    "X_train_pca = pca.transform(flatten_images(X_train))\n",
    "X_test_pca = pca.transform(flatten_images(X_test))\n"
   ]
  },
  {
   "cell_type": "code",
   "execution_count": 5,
   "metadata": {},
   "outputs": [
    {
     "name": "stdout",
     "output_type": "stream",
     "text": [
      "Random KNN PCA Classifier:\n",
      "Accuracy: 0.881352187361909\n"
     ]
    }
   ],
   "source": [
    "\n",
    "random_knn_classifier = KNeighborsClassifier(n_neighbors=5)\n",
    "\n",
    "random_knn_classifier.fit(X_train_pca, y_train)\n",
    "\n",
    "random_knn_predictions = random_knn_classifier.predict(X_test_pca)\n",
    "\n",
    "random_knn_accuracy = accuracy_score(y_test, random_knn_predictions)\n",
    "\n",
    "print(\"Random KNN PCA Classifier:\")\n",
    "print(f\"Accuracy: {random_knn_accuracy}\")"
   ]
  },
  {
   "cell_type": "code",
   "execution_count": 6,
   "metadata": {},
   "outputs": [],
   "source": [
    "\n",
    "def apply_sobel(image):\n",
    "    gx = cv2.Sobel(image, cv2.CV_64F, 1, 0, ksize=5)\n",
    "    gy = cv2.Sobel(image, cv2.CV_64F, 0, 1, ksize=5)\n",
    "\n",
    "    gradient = [gx, gy]\n",
    "    \n",
    "    return gradient\n",
    "\n",
    "data_Xtrain_sobel = [apply_sobel(image) for image in X_train]\n",
    "data_Xtest_sobel = [apply_sobel(image) for image in X_test]"
   ]
  },
  {
   "cell_type": "code",
   "execution_count": 7,
   "metadata": {},
   "outputs": [
    {
     "name": "stdout",
     "output_type": "stream",
     "text": [
      "Random KNN Direction Classifier:\n",
      "Accuracy: 0.8331860362350861\n"
     ]
    }
   ],
   "source": [
    "\n",
    "data_Xtest_sobel = flatten_images(data_Xtest_sobel)\n",
    "data_Xtrain_sobel = flatten_images(data_Xtrain_sobel)\n",
    "\n",
    "random_knn_classifier = KNeighborsClassifier(n_neighbors=5)\n",
    "\n",
    "random_knn_classifier.fit(data_Xtrain_sobel, y_train)\n",
    "\n",
    "random_knn_predictions = random_knn_classifier.predict(data_Xtest_sobel)\n",
    "\n",
    "random_knn_accuracy = accuracy_score(y_test, random_knn_predictions)\n",
    "\n",
    "print(\"Random KNN Direction Classifier:\")\n",
    "print(f\"Accuracy: {random_knn_accuracy}\")"
   ]
  },
  {
   "cell_type": "code",
   "execution_count": 8,
   "metadata": {},
   "outputs": [
    {
     "name": "stdout",
     "output_type": "stream",
     "text": [
      "Random KNN Combined Classifier:\n",
      "Accuracy: 0.8331860362350861\n"
     ]
    }
   ],
   "source": [
    "X_train_combined = np.concatenate((X_train_pca, data_Xtrain_sobel), axis=1)\n",
    "X_test_combined = np.concatenate((X_test_pca, data_Xtest_sobel), axis=1)\n",
    "\n",
    "\n",
    "random_knn_classifier = KNeighborsClassifier(n_neighbors=5)\n",
    "\n",
    "random_knn_classifier.fit(X_train_combined, y_train)\n",
    "\n",
    "random_knn_predictions = random_knn_classifier.predict(X_test_combined)\n",
    "\n",
    "random_knn_accuracy = accuracy_score(y_test, random_knn_predictions)\n",
    "\n",
    "print(\"Random KNN Combined Classifier:\")\n",
    "print(f\"Accuracy: {random_knn_accuracy}\")"
   ]
  }
 ],
 "metadata": {
  "kernelspec": {
   "display_name": "Python 3",
   "language": "python",
   "name": "python3"
  },
  "language_info": {
   "codemirror_mode": {
    "name": "ipython",
    "version": 3
   },
   "file_extension": ".py",
   "mimetype": "text/x-python",
   "name": "python",
   "nbconvert_exporter": "python",
   "pygments_lexer": "ipython3",
   "version": "3.9.4"
  }
 },
 "nbformat": 4,
 "nbformat_minor": 2
}
