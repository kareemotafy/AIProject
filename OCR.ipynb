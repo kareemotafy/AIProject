{
 "cells": [
  {
   "cell_type": "code",
   "execution_count": 78,
   "metadata": {},
   "outputs": [],
   "source": [
    "import os\n",
    "import cv2\n",
    "import numpy as np\n",
    "from sklearn.model_selection import train_test_split\n",
    "from sklearn.neighbors import KNeighborsClassifier\n",
    "from sklearn.metrics import accuracy_score\n",
    "from sklearn.decomposition import PCA\n",
    "import imutils\n",
    "import matplotlib.pyplot as plt\n",
    "from sklearn.metrics import accuracy_score, confusion_matrix\n",
    "from sklearn.metrics import ConfusionMatrixDisplay\n",
    "from tabulate import tabulate\n",
    "\n",
    "def flatten_image(image):\n",
    "    return np.array(image).flatten()\n",
    "\n",
    "def flatten_images(images):\n",
    "    return np.array([flatten_image(image) for image in images])\n",
    "\n",
    "image_size = 32"
   ]
  },
  {
   "cell_type": "code",
   "execution_count": 79,
   "metadata": {},
   "outputs": [],
   "source": [
    "def read_image(class_path, image_file):\n",
    "    image_path = os.path.join(class_path, image_file)\n",
    "    image =  cv2.imread(image_path, cv2.IMREAD_GRAYSCALE)\n",
    "    return image\n",
    "\n",
    "class_labels_list = []\n",
    "images_list = []\n",
    "\n",
    "data_directory = './dataset/'\n",
    "\n",
    "#missing O\n",
    "directories = ['@', \"&\", \"#\", \"$\", 'A', 'B', 'C', 'D', 'E', 'F', 'G', 'H', 'I', 'J', 'K','L','M','N','P','Q','R','S','T','U','V','W','X','Y','Z','0','1','2','3','4','5','6','7','8','9']\n",
    "\n",
    "for class_label, class_name in enumerate(directories):\n",
    "    class_path = os.path.join(data_directory, class_name)\n",
    "    for image_file in os.listdir(class_path):\n",
    "        if image_file.endswith('.jpg'):\n",
    "            image = read_image(class_path, image_file)\n",
    "            images_list.append(image)\n",
    "            class_labels_list.append(class_label)\n",
    "\n",
    "data_x = images_list\n",
    "data_y = class_labels_list\n",
    "\n",
    "X_train, X_test, y_train, y_test = train_test_split(data_x,data_y, \n",
    "                                                    test_size=0.25, \n",
    "                                                    random_state=13)"
   ]
  },
  {
   "cell_type": "code",
   "execution_count": 80,
   "metadata": {},
   "outputs": [],
   "source": [
    "pca = PCA(n_components=50).fit(flatten_images(X_train))\n",
    "X_train_pca = pca.transform(flatten_images(X_train))\n",
    "X_test_pca = pca.transform(flatten_images(X_test))\n"
   ]
  },
  {
   "cell_type": "code",
   "execution_count": 81,
   "metadata": {},
   "outputs": [
    {
     "name": "stdout",
     "output_type": "stream",
     "text": [
      "Random KNN PCA Classifier:\n",
      "Accuracy: 0.8488095238095238\n",
      "[[-742.98917851 -750.37291838 -471.05954583 -920.69324995 -166.42414087\n",
      "   425.91898266  259.81878944 -581.49243606   60.47920443 -342.50901376\n",
      "  -126.3295728   271.37756071 -326.41589795  -55.6521697    50.46476267\n",
      "  -146.14874861  234.93447336  458.17823124 -233.49782018   56.75270276\n",
      "  -173.39259059  104.16886645 -180.4113004    80.24513824  285.59417581\n",
      "   -72.29748042 -165.09719963   63.07615361  -47.76110228 -139.6811098\n",
      "   231.85451967  267.15498381  -16.44162893   61.44502104  105.85120987\n",
      "    89.76901506  101.68025699   -7.46511645   88.62928699   35.49747986\n",
      "    14.42323253  -47.20499313  -73.7413769    21.80062142  -11.16598203\n",
      "    -4.08473544   37.70297711  -95.55293124    3.20361658   69.48087697]]\n",
      "Random Sample Prediction: V\n"
     ]
    }
   ],
   "source": [
    "pca_knn_classifier = KNeighborsClassifier(n_neighbors=5) \n",
    "pca_knn_classifier.fit(X_train_pca, y_train)\n",
    "pca_knn_predictions = pca_knn_classifier.predict(X_test_pca)\n",
    "pca_knn_accuracy = accuracy_score(y_test, pca_knn_predictions)\n",
    "\n",
    "print(\"Random KNN PCA Classifier:\")\n",
    "print(f\"Accuracy: {pca_knn_accuracy}\")\n",
    "\n",
    "random_sample = X_test[0]\n",
    "print(pca.transform([flatten_image(random_sample)]))\n",
    "random_sample_prediction = pca_knn_classifier.predict(pca.transform([flatten_image(random_sample)]))\n",
    "print(f\"Random Sample Prediction: {directories[random_sample_prediction[0]]}\")"
   ]
  },
  {
   "cell_type": "code",
   "execution_count": 82,
   "metadata": {},
   "outputs": [],
   "source": [
    "\n",
    "def apply_sobel(image):\n",
    "    gx = cv2.Sobel(image, cv2.CV_32F, 1, 0, ksize=5)\n",
    "    gy = cv2.Sobel(image, cv2.CV_32F, 0, 1, ksize=5)\n",
    "\n",
    "    gradient = [gx, gy]\n",
    "    \n",
    "    return gradient\n",
    "\n",
    "x_train_sobel = [apply_sobel(image) for image in X_train]\n",
    "x_test_sobel = [apply_sobel(image) for image in X_test]"
   ]
  },
  {
   "cell_type": "code",
   "execution_count": 83,
   "metadata": {},
   "outputs": [
    {
     "name": "stdout",
     "output_type": "stream",
     "text": [
      "Random KNN Direction Classifier:\n",
      "Accuracy: 0.7642857142857142\n"
     ]
    }
   ],
   "source": [
    "\n",
    "x_test_sobel = flatten_images(x_test_sobel)\n",
    "x_train_sobel = flatten_images(x_train_sobel)\n",
    "\n",
    "sobel_knn_classifier = KNeighborsClassifier(n_neighbors=5)\n",
    "\n",
    "sobel_knn_classifier.fit(x_train_sobel, y_train)\n",
    "\n",
    "sobel_knn_predictions = sobel_knn_classifier.predict(x_test_sobel)\n",
    "\n",
    "sobel_knn_accuracy = accuracy_score(y_test, sobel_knn_predictions)\n",
    "\n",
    "print(\"Random KNN Direction Classifier:\")\n",
    "print(f\"Accuracy: {sobel_knn_accuracy}\")"
   ]
  },
  {
   "cell_type": "code",
   "execution_count": 84,
   "metadata": {},
   "outputs": [
    {
     "name": "stdout",
     "output_type": "stream",
     "text": [
      "Random KNN Combined Classifier:\n",
      "Accuracy: 0.7642857142857142\n"
     ]
    }
   ],
   "source": [
    "X_train_combined = np.concatenate((X_train_pca, x_train_sobel), axis=1)\n",
    "X_test_combined = np.concatenate((X_test_pca, x_test_sobel), axis=1)\n",
    "\n",
    "\n",
    "merged_knn_classifier = KNeighborsClassifier(n_neighbors=5)\n",
    "\n",
    "merged_knn_classifier.fit(X_train_combined, y_train)\n",
    "\n",
    "merged_knn_predictions = merged_knn_classifier.predict(X_test_combined)\n",
    "\n",
    "merged_knn_accuracy = accuracy_score(y_test, merged_knn_predictions)\n",
    "\n",
    "print(\"Random KNN Combined Classifier:\")\n",
    "print(f\"Accuracy: {merged_knn_accuracy}\")\n"
   ]
  },
  {
   "cell_type": "code",
   "execution_count": 85,
   "metadata": {},
   "outputs": [
    {
     "ename": "error",
     "evalue": "OpenCV(4.8.1) D:\\a\\opencv-python\\opencv-python\\opencv\\modules\\imgproc\\src\\color.cpp:182: error: (-215:Assertion failed) !_src.empty() in function 'cv::cvtColor'\n",
     "output_type": "error",
     "traceback": [
      "\u001b[1;31m---------------------------------------------------------------------------\u001b[0m",
      "\u001b[1;31merror\u001b[0m                                     Traceback (most recent call last)",
      "\u001b[1;32me:\\miu university\\9\\Introduction to AI\\handwritten project\\AIProject\\OCR.ipynb Cell 8\u001b[0m line \u001b[0;36m4\n\u001b[0;32m     <a href='vscode-notebook-cell:/e%3A/miu%20university/9/Introduction%20to%20AI/handwritten%20project/AIProject/OCR.ipynb#X25sZmlsZQ%3D%3D?line=43'>44</a>\u001b[0m         word \u001b[39m+\u001b[39m\u001b[39m=\u001b[39m directories[letter]\n\u001b[0;32m     <a href='vscode-notebook-cell:/e%3A/miu%20university/9/Introduction%20to%20AI/handwritten%20project/AIProject/OCR.ipynb#X25sZmlsZQ%3D%3D?line=44'>45</a>\u001b[0m     \u001b[39mreturn\u001b[39;00m word\n\u001b[1;32m---> <a href='vscode-notebook-cell:/e%3A/miu%20university/9/Introduction%20to%20AI/handwritten%20project/AIProject/OCR.ipynb#X25sZmlsZQ%3D%3D?line=48'>49</a>\u001b[0m letters, image \u001b[39m=\u001b[39m get_letters(\n\u001b[0;32m     <a href='vscode-notebook-cell:/e%3A/miu%20university/9/Introduction%20to%20AI/handwritten%20project/AIProject/OCR.ipynb#X25sZmlsZQ%3D%3D?line=49'>50</a>\u001b[0m     \u001b[39m\"\u001b[39;49m\u001b[39m./dataset/words/validation/VALIDATION_0010.jpg\u001b[39;49m\u001b[39m\"\u001b[39;49m\n\u001b[0;32m     <a href='vscode-notebook-cell:/e%3A/miu%20university/9/Introduction%20to%20AI/handwritten%20project/AIProject/OCR.ipynb#X25sZmlsZQ%3D%3D?line=50'>51</a>\u001b[0m )\n\u001b[0;32m     <a href='vscode-notebook-cell:/e%3A/miu%20university/9/Introduction%20to%20AI/handwritten%20project/AIProject/OCR.ipynb#X25sZmlsZQ%3D%3D?line=52'>53</a>\u001b[0m word \u001b[39m=\u001b[39m get_word(letters)\n\u001b[0;32m     <a href='vscode-notebook-cell:/e%3A/miu%20university/9/Introduction%20to%20AI/handwritten%20project/AIProject/OCR.ipynb#X25sZmlsZQ%3D%3D?line=56'>57</a>\u001b[0m \u001b[39mprint\u001b[39m(word)\n",
      "\u001b[1;32me:\\miu university\\9\\Introduction to AI\\handwritten project\\AIProject\\OCR.ipynb Cell 8\u001b[0m line \u001b[0;36m2\n\u001b[0;32m     <a href='vscode-notebook-cell:/e%3A/miu%20university/9/Introduction%20to%20AI/handwritten%20project/AIProject/OCR.ipynb#X25sZmlsZQ%3D%3D?line=18'>19</a>\u001b[0m letters \u001b[39m=\u001b[39m []\n\u001b[0;32m     <a href='vscode-notebook-cell:/e%3A/miu%20university/9/Introduction%20to%20AI/handwritten%20project/AIProject/OCR.ipynb#X25sZmlsZQ%3D%3D?line=19'>20</a>\u001b[0m image \u001b[39m=\u001b[39m cv2\u001b[39m.\u001b[39mimread(img)\n\u001b[1;32m---> <a href='vscode-notebook-cell:/e%3A/miu%20university/9/Introduction%20to%20AI/handwritten%20project/AIProject/OCR.ipynb#X25sZmlsZQ%3D%3D?line=20'>21</a>\u001b[0m gray \u001b[39m=\u001b[39m cv2\u001b[39m.\u001b[39;49mcvtColor(image, cv2\u001b[39m.\u001b[39;49mCOLOR_BGR2GRAY)\n\u001b[0;32m     <a href='vscode-notebook-cell:/e%3A/miu%20university/9/Introduction%20to%20AI/handwritten%20project/AIProject/OCR.ipynb#X25sZmlsZQ%3D%3D?line=21'>22</a>\u001b[0m ret, thresh1 \u001b[39m=\u001b[39m cv2\u001b[39m.\u001b[39mthreshold(gray, \u001b[39m127\u001b[39m, \u001b[39m255\u001b[39m, cv2\u001b[39m.\u001b[39mTHRESH_BINARY_INV)\n\u001b[0;32m     <a href='vscode-notebook-cell:/e%3A/miu%20university/9/Introduction%20to%20AI/handwritten%20project/AIProject/OCR.ipynb#X25sZmlsZQ%3D%3D?line=22'>23</a>\u001b[0m dilated \u001b[39m=\u001b[39m cv2\u001b[39m.\u001b[39mdilate(thresh1, \u001b[39mNone\u001b[39;00m, iterations\u001b[39m=\u001b[39m\u001b[39m2\u001b[39m)\n",
      "\u001b[1;31merror\u001b[0m: OpenCV(4.8.1) D:\\a\\opencv-python\\opencv-python\\opencv\\modules\\imgproc\\src\\color.cpp:182: error: (-215:Assertion failed) !_src.empty() in function 'cv::cvtColor'\n"
     ]
    }
   ],
   "source": [
    "model = pca_knn_classifier\n",
    "\n",
    "def sort_contours(cnts, method=\"left-to-right\"):\n",
    "    reverse = False\n",
    "    i = 0\n",
    "    if method == \"right-to-left\" or method == \"bottom-to-top\":\n",
    "        reverse = True\n",
    "    if method == \"top-to-bottom\" or method == \"bottom-to-top\":\n",
    "        i = 1\n",
    "    boundingBoxes = [cv2.boundingRect(c) for c in cnts]\n",
    "    (cnts, boundingBoxes) = zip(\n",
    "        *sorted(zip(cnts, boundingBoxes), key=lambda b: b[1][i], reverse=reverse)\n",
    "    )\n",
    "    # return the list of sorted contours and bounding boxes\n",
    "    return (cnts, boundingBoxes)\n",
    "\n",
    "\n",
    "def get_letters(img):\n",
    "    letters = []\n",
    "    image = cv2.imread(img)\n",
    "    gray = cv2.cvtColor(image, cv2.COLOR_BGR2GRAY)\n",
    "    ret, thresh1 = cv2.threshold(gray, 127, 255, cv2.THRESH_BINARY_INV)\n",
    "    dilated = cv2.dilate(thresh1, None, iterations=2)\n",
    "    cnts = cv2.findContours(dilated.copy(), cv2.RETR_EXTERNAL, cv2.CHAIN_APPROX_SIMPLE)\n",
    "    cnts = imutils.grab_contours(cnts)\n",
    "    cnts = sort_contours(cnts, method=\"left-to-right\")[0]\n",
    "    for c in cnts:\n",
    "        if cv2.contourArea(c) > 10:\n",
    "            (x, y, w, h) = cv2.boundingRect(c)\n",
    "            cv2.rectangle(image, (x, y), (x + w, y + h), (0, 255, 0), 2)\n",
    "        roi = gray[y : y + h, x : x + w]\n",
    "        thresh = cv2.threshold(roi, 0, 255, cv2.THRESH_BINARY_INV | cv2.THRESH_OTSU)[1]\n",
    "        thresh = cv2.resize(thresh, (image_size,image_size))\n",
    "        thresh = pca.transform([flatten_image(thresh)])\n",
    "        ypred = model.predict(thresh)\n",
    "        [x] = ypred\n",
    "        letters.append(x)\n",
    "    return letters, image\n",
    "\n",
    "\n",
    "def get_word(letter):\n",
    "    word = ''\n",
    "    for letter in letters:\n",
    "        word += directories[letter]\n",
    "    return word\n",
    "    \n",
    "\n",
    "\n",
    "letters, image = get_letters(\n",
    "    \"./dataset/words/validation/VALIDATION_0010.jpg\"\n",
    ")\n",
    "\n",
    "word = get_word(letters)\n",
    "\n",
    "\n",
    "\n",
    "print(word)\n",
    "plt.imshow(image)"
   ]
  },
  {
   "cell_type": "code",
   "execution_count": 98,
   "metadata": {},
   "outputs": [
    {
     "ename": "ValueError",
     "evalue": "The truth value of an array with more than one element is ambiguous. Use a.any() or a.all()",
     "output_type": "error",
     "traceback": [
      "\u001b[1;31m---------------------------------------------------------------------------\u001b[0m",
      "\u001b[1;31mValueError\u001b[0m                                Traceback (most recent call last)",
      "\u001b[1;32me:\\miu university\\9\\Introduction to AI\\handwritten project\\AIProject\\OCR.ipynb Cell 9\u001b[0m line \u001b[0;36m2\n\u001b[0;32m     <a href='vscode-notebook-cell:/e%3A/miu%20university/9/Introduction%20to%20AI/handwritten%20project/AIProject/OCR.ipynb#X26sZmlsZQ%3D%3D?line=19'>20</a>\u001b[0m new_confusion_matrix[\u001b[39m1\u001b[39m:, \u001b[39m0\u001b[39m] \u001b[39m=\u001b[39m labels\n\u001b[0;32m     <a href='vscode-notebook-cell:/e%3A/miu%20university/9/Introduction%20to%20AI/handwritten%20project/AIProject/OCR.ipynb#X26sZmlsZQ%3D%3D?line=21'>22</a>\u001b[0m \u001b[39m# Convert the confusion matrix to a table\u001b[39;00m\n\u001b[1;32m---> <a href='vscode-notebook-cell:/e%3A/miu%20university/9/Introduction%20to%20AI/handwritten%20project/AIProject/OCR.ipynb#X26sZmlsZQ%3D%3D?line=22'>23</a>\u001b[0m table \u001b[39m=\u001b[39m tabulate(confusion_matrix_10, headers\u001b[39m=\u001b[39;49mheader_labels, showindex\u001b[39m=\u001b[39;49mlabels\u001b[39m-\u001b[39;49m\u001b[39m3\u001b[39;49m, tablefmt\u001b[39m=\u001b[39;49m\u001b[39m\"\u001b[39;49m\u001b[39mgrid\u001b[39;49m\u001b[39m\"\u001b[39;49m)\n\u001b[0;32m     <a href='vscode-notebook-cell:/e%3A/miu%20university/9/Introduction%20to%20AI/handwritten%20project/AIProject/OCR.ipynb#X26sZmlsZQ%3D%3D?line=24'>25</a>\u001b[0m \u001b[39m# Print the confusion matrix table\u001b[39;00m\n\u001b[0;32m     <a href='vscode-notebook-cell:/e%3A/miu%20university/9/Introduction%20to%20AI/handwritten%20project/AIProject/OCR.ipynb#X26sZmlsZQ%3D%3D?line=25'>26</a>\u001b[0m \u001b[39mprint\u001b[39m(table)\n",
      "File \u001b[1;32mc:\\Users\\ma407\\AppData\\Local\\Programs\\Python\\Python310\\lib\\site-packages\\tabulate\\__init__.py:2048\u001b[0m, in \u001b[0;36mtabulate\u001b[1;34m(tabular_data, headers, tablefmt, floatfmt, intfmt, numalign, stralign, missingval, showindex, disable_numparse, colalign, maxcolwidths, rowalign, maxheadercolwidths)\u001b[0m\n\u001b[0;32m   2045\u001b[0m \u001b[39mif\u001b[39;00m tabular_data \u001b[39mis\u001b[39;00m \u001b[39mNone\u001b[39;00m:\n\u001b[0;32m   2046\u001b[0m     tabular_data \u001b[39m=\u001b[39m []\n\u001b[1;32m-> 2048\u001b[0m list_of_lists, headers \u001b[39m=\u001b[39m _normalize_tabular_data(\n\u001b[0;32m   2049\u001b[0m     tabular_data, headers, showindex\u001b[39m=\u001b[39;49mshowindex\n\u001b[0;32m   2050\u001b[0m )\n\u001b[0;32m   2051\u001b[0m list_of_lists, separating_lines \u001b[39m=\u001b[39m _remove_separating_lines(list_of_lists)\n\u001b[0;32m   2053\u001b[0m \u001b[39mif\u001b[39;00m maxcolwidths \u001b[39mis\u001b[39;00m \u001b[39mnot\u001b[39;00m \u001b[39mNone\u001b[39;00m:\n",
      "File \u001b[1;32mc:\\Users\\ma407\\AppData\\Local\\Programs\\Python\\Python310\\lib\\site-packages\\tabulate\\__init__.py:1475\u001b[0m, in \u001b[0;36m_normalize_tabular_data\u001b[1;34m(tabular_data, headers, showindex)\u001b[0m\n\u001b[0;32m   1473\u001b[0m \u001b[39m# add or remove an index column\u001b[39;00m\n\u001b[0;32m   1474\u001b[0m showindex_is_a_str \u001b[39m=\u001b[39m \u001b[39mtype\u001b[39m(showindex) \u001b[39min\u001b[39;00m [\u001b[39mstr\u001b[39m, \u001b[39mbytes\u001b[39m]\n\u001b[1;32m-> 1475\u001b[0m \u001b[39mif\u001b[39;00m showindex \u001b[39m==\u001b[39m \u001b[39m\"\u001b[39m\u001b[39mdefault\u001b[39m\u001b[39m\"\u001b[39m \u001b[39mand\u001b[39;00m index \u001b[39mis\u001b[39;00m \u001b[39mnot\u001b[39;00m \u001b[39mNone\u001b[39;00m:\n\u001b[0;32m   1476\u001b[0m     rows \u001b[39m=\u001b[39m _prepend_row_index(rows, index)\n\u001b[0;32m   1477\u001b[0m \u001b[39melif\u001b[39;00m \u001b[39misinstance\u001b[39m(showindex, Sized) \u001b[39mand\u001b[39;00m \u001b[39mnot\u001b[39;00m showindex_is_a_str:\n",
      "\u001b[1;31mValueError\u001b[0m: The truth value of an array with more than one element is ambiguous. Use a.any() or a.all()"
     ]
    }
   ],
   "source": [
    "# Suppose you have the confusion matrix stored in knn_confusion_matrix\n",
    "knn_pca_confusion_matrix = confusion_matrix(y_test, pca_knn_predictions)\n",
    "\n",
    "# Get the labels for the confusion matrix for the first 10 categories\n",
    "labels = pca_knn_classifier.classes_[:10]\n",
    "\n",
    "# Get the first 10 rows and columns of the confusion matrix\n",
    "confusion_matrix_10 = knn_pca_confusion_matrix[:10, :10]\n",
    "row_labels = [\"True/Predicted\"] + list(labels)\n",
    "\n",
    "# Create an array with numbers from 1 to 10\n",
    "numbers = np.arange(1, 11)\n",
    "\n",
    "# Add an extra row and column for \"Predicted/True\" labels and numbers\n",
    "header_labels = [\"Predicted/true\"] + list(numbers)\n",
    "\n",
    "# Create a new confusion matrix with an additional row and column\n",
    "new_confusion_matrix = np.zeros((11, 11), dtype=int)\n",
    "new_confusion_matrix[1:, 1:] = labels\n",
    "new_confusion_matrix[1:, 0] = labels\n",
    "\n",
    "# Convert the confusion matrix to a table\n",
    "table = tabulate(confusion_matrix_10, headers=header_labels, showindex=labels-3, tablefmt=\"grid\")\n",
    "\n",
    "# Print the confusion matrix table\n",
    "print(table)"
   ]
  },
  {
   "cell_type": "code",
   "execution_count": 88,
   "metadata": {},
   "outputs": [
    {
     "name": "stdout",
     "output_type": "stream",
     "text": [
      "KNN-PCA-Sensitivity:  1.0\n",
      "KNN-PCA-Specificity:  0.9987730061349693\n",
      "KNN-PCA-Precision:  0.9615384615384616\n",
      "KNN-PCA-Recall:  1.0\n",
      "KNN-PCA-F1-score:  0.9803921568627451\n"
     ]
    }
   ],
   "source": [
    "num_categories = knn_pca_confusion_matrix.shape[0]\n",
    "\n",
    "metrics = {}\n",
    "\n",
    "for i in range(num_categories):\n",
    "    TP = knn_pca_confusion_matrix[i, i]\n",
    "    FN = np.sum(knn_pca_confusion_matrix[i, :]) - TP\n",
    "    FP = np.sum(knn_pca_confusion_matrix[:, i]) - TP\n",
    "    TN = np.sum(knn_pca_confusion_matrix) - TP - FN - FP\n",
    "\n",
    "    sensitivity = TP / (TP + FN)\n",
    "    specificity = TN / (TN + FP)\n",
    "    precision = TP / (TP + FP)\n",
    "    recall = sensitivity\n",
    "    f1_score = 2 * (precision * recall) / (precision + recall)\n",
    "\n",
    "    metrics[i] = {\"Sensitivity\": sensitivity,\n",
    "                  \"Specificity\": specificity,\n",
    "                  \"Precision\": precision,\n",
    "                  \"Recall\": recall,\n",
    "                  \"F1-score\": f1_score}\n",
    "print(\"KNN-PCA-Sensitivity: \",sensitivity)\n",
    "print(\"KNN-PCA-Specificity: \",specificity)\n",
    "print(\"KNN-PCA-Precision: \",precision)\n",
    "print(\"KNN-PCA-Recall: \",recall)\n",
    "print(\"KNN-PCA-F1-score: \",f1_score)"
   ]
  },
  {
   "cell_type": "code",
   "execution_count": 99,
   "metadata": {},
   "outputs": [
    {
     "ename": "ValueError",
     "evalue": "The truth value of an array with more than one element is ambiguous. Use a.any() or a.all()",
     "output_type": "error",
     "traceback": [
      "\u001b[1;31m---------------------------------------------------------------------------\u001b[0m",
      "\u001b[1;31mValueError\u001b[0m                                Traceback (most recent call last)",
      "\u001b[1;32me:\\miu university\\9\\Introduction to AI\\handwritten project\\AIProject\\OCR.ipynb Cell 11\u001b[0m line \u001b[0;36m2\n\u001b[0;32m     <a href='vscode-notebook-cell:/e%3A/miu%20university/9/Introduction%20to%20AI/handwritten%20project/AIProject/OCR.ipynb#X31sZmlsZQ%3D%3D?line=19'>20</a>\u001b[0m new_confusion_matrix[\u001b[39m1\u001b[39m:, \u001b[39m0\u001b[39m] \u001b[39m=\u001b[39m labels\n\u001b[0;32m     <a href='vscode-notebook-cell:/e%3A/miu%20university/9/Introduction%20to%20AI/handwritten%20project/AIProject/OCR.ipynb#X31sZmlsZQ%3D%3D?line=21'>22</a>\u001b[0m \u001b[39m# Convert the confusion matrix to a table\u001b[39;00m\n\u001b[1;32m---> <a href='vscode-notebook-cell:/e%3A/miu%20university/9/Introduction%20to%20AI/handwritten%20project/AIProject/OCR.ipynb#X31sZmlsZQ%3D%3D?line=22'>23</a>\u001b[0m table \u001b[39m=\u001b[39m tabulate(confusion_matrix_10, headers\u001b[39m=\u001b[39;49mheader_labels, showindex\u001b[39m=\u001b[39;49mlabels\u001b[39m-\u001b[39;49m\u001b[39m3\u001b[39;49m, tablefmt\u001b[39m=\u001b[39;49m\u001b[39m\"\u001b[39;49m\u001b[39mgrid\u001b[39;49m\u001b[39m\"\u001b[39;49m)\n\u001b[0;32m     <a href='vscode-notebook-cell:/e%3A/miu%20university/9/Introduction%20to%20AI/handwritten%20project/AIProject/OCR.ipynb#X31sZmlsZQ%3D%3D?line=24'>25</a>\u001b[0m \u001b[39m# Print the confusion matrix table\u001b[39;00m\n\u001b[0;32m     <a href='vscode-notebook-cell:/e%3A/miu%20university/9/Introduction%20to%20AI/handwritten%20project/AIProject/OCR.ipynb#X31sZmlsZQ%3D%3D?line=25'>26</a>\u001b[0m \u001b[39mprint\u001b[39m(table)\n",
      "File \u001b[1;32mc:\\Users\\ma407\\AppData\\Local\\Programs\\Python\\Python310\\lib\\site-packages\\tabulate\\__init__.py:2048\u001b[0m, in \u001b[0;36mtabulate\u001b[1;34m(tabular_data, headers, tablefmt, floatfmt, intfmt, numalign, stralign, missingval, showindex, disable_numparse, colalign, maxcolwidths, rowalign, maxheadercolwidths)\u001b[0m\n\u001b[0;32m   2045\u001b[0m \u001b[39mif\u001b[39;00m tabular_data \u001b[39mis\u001b[39;00m \u001b[39mNone\u001b[39;00m:\n\u001b[0;32m   2046\u001b[0m     tabular_data \u001b[39m=\u001b[39m []\n\u001b[1;32m-> 2048\u001b[0m list_of_lists, headers \u001b[39m=\u001b[39m _normalize_tabular_data(\n\u001b[0;32m   2049\u001b[0m     tabular_data, headers, showindex\u001b[39m=\u001b[39;49mshowindex\n\u001b[0;32m   2050\u001b[0m )\n\u001b[0;32m   2051\u001b[0m list_of_lists, separating_lines \u001b[39m=\u001b[39m _remove_separating_lines(list_of_lists)\n\u001b[0;32m   2053\u001b[0m \u001b[39mif\u001b[39;00m maxcolwidths \u001b[39mis\u001b[39;00m \u001b[39mnot\u001b[39;00m \u001b[39mNone\u001b[39;00m:\n",
      "File \u001b[1;32mc:\\Users\\ma407\\AppData\\Local\\Programs\\Python\\Python310\\lib\\site-packages\\tabulate\\__init__.py:1475\u001b[0m, in \u001b[0;36m_normalize_tabular_data\u001b[1;34m(tabular_data, headers, showindex)\u001b[0m\n\u001b[0;32m   1473\u001b[0m \u001b[39m# add or remove an index column\u001b[39;00m\n\u001b[0;32m   1474\u001b[0m showindex_is_a_str \u001b[39m=\u001b[39m \u001b[39mtype\u001b[39m(showindex) \u001b[39min\u001b[39;00m [\u001b[39mstr\u001b[39m, \u001b[39mbytes\u001b[39m]\n\u001b[1;32m-> 1475\u001b[0m \u001b[39mif\u001b[39;00m showindex \u001b[39m==\u001b[39m \u001b[39m\"\u001b[39m\u001b[39mdefault\u001b[39m\u001b[39m\"\u001b[39m \u001b[39mand\u001b[39;00m index \u001b[39mis\u001b[39;00m \u001b[39mnot\u001b[39;00m \u001b[39mNone\u001b[39;00m:\n\u001b[0;32m   1476\u001b[0m     rows \u001b[39m=\u001b[39m _prepend_row_index(rows, index)\n\u001b[0;32m   1477\u001b[0m \u001b[39melif\u001b[39;00m \u001b[39misinstance\u001b[39m(showindex, Sized) \u001b[39mand\u001b[39;00m \u001b[39mnot\u001b[39;00m showindex_is_a_str:\n",
      "\u001b[1;31mValueError\u001b[0m: The truth value of an array with more than one element is ambiguous. Use a.any() or a.all()"
     ]
    }
   ],
   "source": [
    "# Suppose you have the confusion matrix stored in knn_confusion_matrix\n",
    "knn_sobel_confusion_matrix = confusion_matrix(y_test, sobel_knn_predictions)\n",
    "\n",
    "# Get the labels for the confusion matrix for the first 10 categories\n",
    "labels = sobel_knn_classifier.classes_[:10]\n",
    "\n",
    "# Get the first 10 rows and columns of the confusion matrix\n",
    "confusion_matrix_10 = knn_sobel_confusion_matrix[:10, :10]\n",
    "row_labels = [\"True/Predicted\"] + list(labels)\n",
    "\n",
    "# Create an array with numbers from 1 to 10\n",
    "numbers = np.arange(1, 11)\n",
    "\n",
    "# Add an extra row and column for \"Predicted/True\" labels and numbers\n",
    "header_labels = [\"Predicted/true\"] + list(numbers)\n",
    "\n",
    "# Create a new confusion matrix with an additional row and column\n",
    "new_confusion_matrix = np.zeros((11, 11))\n",
    "new_confusion_matrix[1:, 1:] = labels\n",
    "new_confusion_matrix[1:, 0] = labels\n",
    "\n",
    "# Convert the confusion matrix to a table\n",
    "table = tabulate(confusion_matrix_10, headers=header_labels, showindex=labels-3, tablefmt=\"grid\")\n",
    "\n",
    "# Print the confusion matrix table\n",
    "print(table)"
   ]
  },
  {
   "cell_type": "code",
   "execution_count": 90,
   "metadata": {},
   "outputs": [
    {
     "name": "stdout",
     "output_type": "stream",
     "text": [
      "KNN-SOBEL-Sensitivity 1.0\n",
      "KNN-SOBEL-Specificity 0.996319018404908\n",
      "KNN-SOBEL-Precision 0.8928571428571429\n",
      "KNN-SOBEL-Recall 1.0\n",
      "KNN-SOBEL-F1-score 0.9433962264150945\n"
     ]
    }
   ],
   "source": [
    "num_categories = knn_sobel_confusion_matrix.shape[0]\n",
    "\n",
    "metrics = {}\n",
    "\n",
    "for i in range(num_categories):\n",
    "    TP = knn_sobel_confusion_matrix[i, i]\n",
    "    FN = np.sum(knn_sobel_confusion_matrix[i, :]) - TP\n",
    "    FP = np.sum(knn_sobel_confusion_matrix[:, i]) - TP\n",
    "    TN = np.sum(knn_sobel_confusion_matrix) - TP - FN - FP\n",
    "\n",
    "    sensitivity = TP / (TP + FN)\n",
    "    specificity = TN / (TN + FP)\n",
    "    precision = TP / (TP + FP)\n",
    "    recall = sensitivity\n",
    "    f1_score = 2 * (precision * recall) / (precision + recall)\n",
    "\n",
    "    metrics[i] = {\"Sensitivity\": sensitivity,\n",
    "                  \"Specificity\": specificity,\n",
    "                  \"Precision\": precision,\n",
    "                  \"Recall\": recall,\n",
    "                  \"F1-score\": f1_score}\n",
    "print(\"KNN-SOBEL-Sensitivity\",sensitivity)\n",
    "print(\"KNN-SOBEL-Specificity\",specificity)\n",
    "print(\"KNN-SOBEL-Precision\",precision)\n",
    "print(\"KNN-SOBEL-Recall\",recall)\n",
    "print(\"KNN-SOBEL-F1-score\",f1_score)"
   ]
  },
  {
   "cell_type": "code",
   "execution_count": 91,
   "metadata": {},
   "outputs": [
    {
     "ename": "ValueError",
     "evalue": "Found input variables with inconsistent numbers of samples: [840, 1104]",
     "output_type": "error",
     "traceback": [
      "\u001b[1;31m---------------------------------------------------------------------------\u001b[0m",
      "\u001b[1;31mValueError\u001b[0m                                Traceback (most recent call last)",
      "\u001b[1;32me:\\miu university\\9\\Introduction to AI\\handwritten project\\AIProject\\OCR.ipynb Cell 13\u001b[0m line \u001b[0;36m2\n\u001b[0;32m      <a href='vscode-notebook-cell:/e%3A/miu%20university/9/Introduction%20to%20AI/handwritten%20project/AIProject/OCR.ipynb#X33sZmlsZQ%3D%3D?line=0'>1</a>\u001b[0m \u001b[39m# Suppose you have the confusion matrix stored in svm_confusion_matrix\u001b[39;00m\n\u001b[1;32m----> <a href='vscode-notebook-cell:/e%3A/miu%20university/9/Introduction%20to%20AI/handwritten%20project/AIProject/OCR.ipynb#X33sZmlsZQ%3D%3D?line=1'>2</a>\u001b[0m svm_pca_confusion_matrix \u001b[39m=\u001b[39m confusion_matrix(y_test, pca_svm_predictions)\n\u001b[0;32m      <a href='vscode-notebook-cell:/e%3A/miu%20university/9/Introduction%20to%20AI/handwritten%20project/AIProject/OCR.ipynb#X33sZmlsZQ%3D%3D?line=3'>4</a>\u001b[0m \u001b[39m# Get the labels for the confusion matrix for the first 10 categories\u001b[39;00m\n\u001b[0;32m      <a href='vscode-notebook-cell:/e%3A/miu%20university/9/Introduction%20to%20AI/handwritten%20project/AIProject/OCR.ipynb#X33sZmlsZQ%3D%3D?line=4'>5</a>\u001b[0m labels \u001b[39m=\u001b[39m pca_svm_classifier\u001b[39m.\u001b[39mclasses_[:\u001b[39m10\u001b[39m]\n",
      "File \u001b[1;32mc:\\Users\\ma407\\AppData\\Local\\Programs\\Python\\Python310\\lib\\site-packages\\sklearn\\utils\\_param_validation.py:214\u001b[0m, in \u001b[0;36mvalidate_params.<locals>.decorator.<locals>.wrapper\u001b[1;34m(*args, **kwargs)\u001b[0m\n\u001b[0;32m    208\u001b[0m \u001b[39mtry\u001b[39;00m:\n\u001b[0;32m    209\u001b[0m     \u001b[39mwith\u001b[39;00m config_context(\n\u001b[0;32m    210\u001b[0m         skip_parameter_validation\u001b[39m=\u001b[39m(\n\u001b[0;32m    211\u001b[0m             prefer_skip_nested_validation \u001b[39mor\u001b[39;00m global_skip_validation\n\u001b[0;32m    212\u001b[0m         )\n\u001b[0;32m    213\u001b[0m     ):\n\u001b[1;32m--> 214\u001b[0m         \u001b[39mreturn\u001b[39;00m func(\u001b[39m*\u001b[39margs, \u001b[39m*\u001b[39m\u001b[39m*\u001b[39mkwargs)\n\u001b[0;32m    215\u001b[0m \u001b[39mexcept\u001b[39;00m InvalidParameterError \u001b[39mas\u001b[39;00m e:\n\u001b[0;32m    216\u001b[0m     \u001b[39m# When the function is just a wrapper around an estimator, we allow\u001b[39;00m\n\u001b[0;32m    217\u001b[0m     \u001b[39m# the function to delegate validation to the estimator, but we replace\u001b[39;00m\n\u001b[0;32m    218\u001b[0m     \u001b[39m# the name of the estimator by the name of the function in the error\u001b[39;00m\n\u001b[0;32m    219\u001b[0m     \u001b[39m# message to avoid confusion.\u001b[39;00m\n\u001b[0;32m    220\u001b[0m     msg \u001b[39m=\u001b[39m re\u001b[39m.\u001b[39msub(\n\u001b[0;32m    221\u001b[0m         \u001b[39mr\u001b[39m\u001b[39m\"\u001b[39m\u001b[39mparameter of \u001b[39m\u001b[39m\\\u001b[39m\u001b[39mw+ must be\u001b[39m\u001b[39m\"\u001b[39m,\n\u001b[0;32m    222\u001b[0m         \u001b[39mf\u001b[39m\u001b[39m\"\u001b[39m\u001b[39mparameter of \u001b[39m\u001b[39m{\u001b[39;00mfunc\u001b[39m.\u001b[39m\u001b[39m__qualname__\u001b[39m\u001b[39m}\u001b[39;00m\u001b[39m must be\u001b[39m\u001b[39m\"\u001b[39m,\n\u001b[0;32m    223\u001b[0m         \u001b[39mstr\u001b[39m(e),\n\u001b[0;32m    224\u001b[0m     )\n",
      "File \u001b[1;32mc:\\Users\\ma407\\AppData\\Local\\Programs\\Python\\Python310\\lib\\site-packages\\sklearn\\metrics\\_classification.py:326\u001b[0m, in \u001b[0;36mconfusion_matrix\u001b[1;34m(y_true, y_pred, labels, sample_weight, normalize)\u001b[0m\n\u001b[0;32m    231\u001b[0m \u001b[39m@validate_params\u001b[39m(\n\u001b[0;32m    232\u001b[0m     {\n\u001b[0;32m    233\u001b[0m         \u001b[39m\"\u001b[39m\u001b[39my_true\u001b[39m\u001b[39m\"\u001b[39m: [\u001b[39m\"\u001b[39m\u001b[39marray-like\u001b[39m\u001b[39m\"\u001b[39m],\n\u001b[1;32m   (...)\u001b[0m\n\u001b[0;32m    242\u001b[0m     y_true, y_pred, \u001b[39m*\u001b[39m, labels\u001b[39m=\u001b[39m\u001b[39mNone\u001b[39;00m, sample_weight\u001b[39m=\u001b[39m\u001b[39mNone\u001b[39;00m, normalize\u001b[39m=\u001b[39m\u001b[39mNone\u001b[39;00m\n\u001b[0;32m    243\u001b[0m ):\n\u001b[0;32m    244\u001b[0m \u001b[39m    \u001b[39m\u001b[39m\"\"\"Compute confusion matrix to evaluate the accuracy of a classification.\u001b[39;00m\n\u001b[0;32m    245\u001b[0m \n\u001b[0;32m    246\u001b[0m \u001b[39m    By definition a confusion matrix :math:`C` is such that :math:`C_{i, j}`\u001b[39;00m\n\u001b[1;32m   (...)\u001b[0m\n\u001b[0;32m    324\u001b[0m \u001b[39m    (0, 2, 1, 1)\u001b[39;00m\n\u001b[0;32m    325\u001b[0m \u001b[39m    \"\"\"\u001b[39;00m\n\u001b[1;32m--> 326\u001b[0m     y_type, y_true, y_pred \u001b[39m=\u001b[39m _check_targets(y_true, y_pred)\n\u001b[0;32m    327\u001b[0m     \u001b[39mif\u001b[39;00m y_type \u001b[39mnot\u001b[39;00m \u001b[39min\u001b[39;00m (\u001b[39m\"\u001b[39m\u001b[39mbinary\u001b[39m\u001b[39m\"\u001b[39m, \u001b[39m\"\u001b[39m\u001b[39mmulticlass\u001b[39m\u001b[39m\"\u001b[39m):\n\u001b[0;32m    328\u001b[0m         \u001b[39mraise\u001b[39;00m \u001b[39mValueError\u001b[39;00m(\u001b[39m\"\u001b[39m\u001b[39m%s\u001b[39;00m\u001b[39m is not supported\u001b[39m\u001b[39m\"\u001b[39m \u001b[39m%\u001b[39m y_type)\n",
      "File \u001b[1;32mc:\\Users\\ma407\\AppData\\Local\\Programs\\Python\\Python310\\lib\\site-packages\\sklearn\\metrics\\_classification.py:84\u001b[0m, in \u001b[0;36m_check_targets\u001b[1;34m(y_true, y_pred)\u001b[0m\n\u001b[0;32m     57\u001b[0m \u001b[39mdef\u001b[39;00m \u001b[39m_check_targets\u001b[39m(y_true, y_pred):\n\u001b[0;32m     58\u001b[0m \u001b[39m    \u001b[39m\u001b[39m\"\"\"Check that y_true and y_pred belong to the same classification task.\u001b[39;00m\n\u001b[0;32m     59\u001b[0m \n\u001b[0;32m     60\u001b[0m \u001b[39m    This converts multiclass or binary types to a common shape, and raises a\u001b[39;00m\n\u001b[1;32m   (...)\u001b[0m\n\u001b[0;32m     82\u001b[0m \u001b[39m    y_pred : array or indicator matrix\u001b[39;00m\n\u001b[0;32m     83\u001b[0m \u001b[39m    \"\"\"\u001b[39;00m\n\u001b[1;32m---> 84\u001b[0m     check_consistent_length(y_true, y_pred)\n\u001b[0;32m     85\u001b[0m     type_true \u001b[39m=\u001b[39m type_of_target(y_true, input_name\u001b[39m=\u001b[39m\u001b[39m\"\u001b[39m\u001b[39my_true\u001b[39m\u001b[39m\"\u001b[39m)\n\u001b[0;32m     86\u001b[0m     type_pred \u001b[39m=\u001b[39m type_of_target(y_pred, input_name\u001b[39m=\u001b[39m\u001b[39m\"\u001b[39m\u001b[39my_pred\u001b[39m\u001b[39m\"\u001b[39m)\n",
      "File \u001b[1;32mc:\\Users\\ma407\\AppData\\Local\\Programs\\Python\\Python310\\lib\\site-packages\\sklearn\\utils\\validation.py:407\u001b[0m, in \u001b[0;36mcheck_consistent_length\u001b[1;34m(*arrays)\u001b[0m\n\u001b[0;32m    405\u001b[0m uniques \u001b[39m=\u001b[39m np\u001b[39m.\u001b[39munique(lengths)\n\u001b[0;32m    406\u001b[0m \u001b[39mif\u001b[39;00m \u001b[39mlen\u001b[39m(uniques) \u001b[39m>\u001b[39m \u001b[39m1\u001b[39m:\n\u001b[1;32m--> 407\u001b[0m     \u001b[39mraise\u001b[39;00m \u001b[39mValueError\u001b[39;00m(\n\u001b[0;32m    408\u001b[0m         \u001b[39m\"\u001b[39m\u001b[39mFound input variables with inconsistent numbers of samples: \u001b[39m\u001b[39m%r\u001b[39;00m\u001b[39m\"\u001b[39m\n\u001b[0;32m    409\u001b[0m         \u001b[39m%\u001b[39m [\u001b[39mint\u001b[39m(l) \u001b[39mfor\u001b[39;00m l \u001b[39min\u001b[39;00m lengths]\n\u001b[0;32m    410\u001b[0m     )\n",
      "\u001b[1;31mValueError\u001b[0m: Found input variables with inconsistent numbers of samples: [840, 1104]"
     ]
    }
   ],
   "source": [
    "# Suppose you have the confusion matrix stored in svm_confusion_matrix\n",
    "svm_pca_confusion_matrix = confusion_matrix(y_test, pca_svm_predictions)\n",
    "\n",
    "# Get the labels for the confusion matrix for the first 10 categories\n",
    "labels = pca_svm_classifier.classes_[:10]\n",
    "\n",
    "# Get the first 10 rows and columns of the confusion matrix\n",
    "confusion_matrix_10 = svm_pca_confusion_matrix[:10, :10]\n",
    "row_labels = [\"True/Predicted\"] + list(labels)\n",
    "\n",
    "# Create an array with numbers from 1 to 10\n",
    "numbers = np.arange(1, 11)\n",
    "\n",
    "# Add an extra row and column for \"Predicted/True\" labels and numbers\n",
    "header_labels = [\"Predicted/true\"] + list(numbers)\n",
    "\n",
    "# Create a new confusion matrix with an additional row and column\n",
    "new_confusion_matrix = np.zeros((11, 11), dtype=np.int)\n",
    "new_confusion_matrix[1:, 1:] = labels\n",
    "new_confusion_matrix[1:, 0] = labels\n",
    "\n",
    "# Convert the confusion matrix to a table\n",
    "table = tabulate(confusion_matrix_10, headers=header_labels, showindex=labels-3, tablefmt=\"grid\")\n",
    "\n",
    "# Print the confusion matrix table\n",
    "print(table)"
   ]
  },
  {
   "cell_type": "code",
   "execution_count": null,
   "metadata": {},
   "outputs": [],
   "source": [
    "num_categories = svm_pca_confusion_matrix.shape[0]\n",
    "\n",
    "metrics = {}\n",
    "\n",
    "for i in range(num_categories):\n",
    "    TP = svm_pca_confusion_matrix[i, i]\n",
    "    FN = np.sum(svm_pca_confusion_matrix[i, :]) - TP\n",
    "    FP = np.sum(svm_pca_confusion_matrix[:, i]) - TP\n",
    "    TN = np.sum(svm_pca_confusion_matrix) - TP - FN - FP\n",
    "\n",
    "    sensitivity = TP / (TP + FN)\n",
    "    specificity = TN / (TN + FP)\n",
    "    precision = TP / (TP + FP)\n",
    "    recall = sensitivity\n",
    "    f1_score = 2 * (precision * recall) / (precision + recall)\n",
    "\n",
    "    metrics[i] = {\"Sensitivity\": sensitivity,\n",
    "                  \"Specificity\": specificity,\n",
    "                  \"Precision\": precision,\n",
    "                  \"Recall\": recall,\n",
    "                  \"F1-score\": f1_score}\n",
    "print(\"SVM-PCA-Sensitivity: \",sensitivity)\n",
    "print(\"SVM-PCA-Specificity: \",specificity)\n",
    "print(\"SVM-PCA-Precision: \",precision)\n",
    "print(\"SVM-PCA-Recall: \",recall)\n",
    "print(\"SVM-PCA-F1-score: \",f1_score)"
   ]
  },
  {
   "cell_type": "code",
   "execution_count": null,
   "metadata": {},
   "outputs": [],
   "source": [
    "# Suppose you have the confusion matrix stored in svm_confusion_matrix\n",
    "svm_sobel_confusion_matrix = confusion_matrix(y_test, sobel_svm_predictions)\n",
    "\n",
    "# Get the labels for the confusion matrix for the first 10 categories\n",
    "labels = sobel_svm_classifier.classes_[:10]\n",
    "\n",
    "# Get the first 10 rows and columns of the confusion matrix\n",
    "confusion_matrix_10 = svm_sobel_confusion_matrix[:10, :10]\n",
    "row_labels = [\"True/Predicted\"] + list(labels)\n",
    "\n",
    "# Create an array with numbers from 1 to 10\n",
    "numbers = np.arange(1, 11)\n",
    "\n",
    "# Add an extra row and column for \"Predicted/True\" labels and numbers\n",
    "header_labels = [\"Predicted/true\"] + list(numbers)\n",
    "\n",
    "# Create a new confusion matrix with an additional row and column\n",
    "new_confusion_matrix = np.zeros((11, 11), dtype=np.int)\n",
    "new_confusion_matrix[1:, 1:] = labels\n",
    "new_confusion_matrix[1:, 0] = labels\n",
    "\n",
    "# Convert the confusion matrix to a table\n",
    "table = tabulate(confusion_matrix_10, headers=header_labels, showindex=labels-3, tablefmt=\"grid\")\n",
    "\n",
    "# Print the confusion matrix table\n",
    "print(table)"
   ]
  },
  {
   "cell_type": "code",
   "execution_count": null,
   "metadata": {},
   "outputs": [],
   "source": [
    "num_categories = svm_sobel_confusion_matrix.shape[0]\n",
    "\n",
    "metrics = {}\n",
    "\n",
    "for i in range(num_categories):\n",
    "    TP = svm_sobel_confusion_matrix[i, i]\n",
    "    FN = np.sum(svm_sobel_confusion_matrix[i, :]) - TP\n",
    "    FP = np.sum(svm_sobel_confusion_matrix[:, i]) - TP\n",
    "    TN = np.sum(svm_sobel_confusion_matrix) - TP - FN - FP\n",
    "\n",
    "    sensitivity = TP / (TP + FN)\n",
    "    specificity = TN / (TN + FP)\n",
    "    precision = TP / (TP + FP)\n",
    "    recall = sensitivity\n",
    "    f1_score = 2 * (precision * recall) / (precision + recall)\n",
    "\n",
    "    metrics[i] = {\"Sensitivity\": sensitivity,\n",
    "                  \"Specificity\": specificity,\n",
    "                  \"Precision\": precision,\n",
    "                  \"Recall\": recall,\n",
    "                  \"F1-score\": f1_score}\n",
    "print(\"SVM-SOBEL-Sensitivity: \",sensitivity)\n",
    "print(\"SVM-SOBEL-Specificity: \",specificity)\n",
    "print(\"SVM-SOBEL-Precision: \",precision)\n",
    "print(\"SVM-SOBEL-Recall: \",recall)\n",
    "print(\"SVM-SOBEL-F1-score: \",f1_score)"
   ]
  }
 ],
 "metadata": {
  "kernelspec": {
   "display_name": "Python 3",
   "language": "python",
   "name": "python3"
  },
  "language_info": {
   "codemirror_mode": {
    "name": "ipython",
    "version": 3
   },
   "file_extension": ".py",
   "mimetype": "text/x-python",
   "name": "python",
   "nbconvert_exporter": "python",
   "pygments_lexer": "ipython3",
   "version": "3.11.0"
  }
 },
 "nbformat": 4,
 "nbformat_minor": 2
}
