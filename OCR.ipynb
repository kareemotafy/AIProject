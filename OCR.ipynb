{
 "cells": [
  {
   "cell_type": "code",
   "execution_count": 193,
   "metadata": {},
   "outputs": [],
   "source": [
    "import os\n",
    "import cv2\n",
    "import numpy as np\n",
    "from sklearn.model_selection import train_test_split\n",
    "from sklearn.neighbors import KNeighborsClassifier\n",
    "from sklearn.metrics import accuracy_score\n",
    "from sklearn.decomposition import PCA\n",
    "import imutils\n",
    "import matplotlib.pyplot as plt\n",
    "\n",
    "def flatten_image(image):\n",
    "    return np.array(image).flatten()\n",
    "\n",
    "def flatten_images(images):\n",
    "    return np.array([flatten_image(image) for image in images])\n",
    "\n",
    "image_size = 32"
   ]
  },
  {
   "cell_type": "code",
   "execution_count": 194,
   "metadata": {},
   "outputs": [],
   "source": [
    "def read_image(class_path, image_file):\n",
    "    image_path = os.path.join(class_path, image_file)\n",
    "    image =  cv2.imread(image_path, cv2.IMREAD_GRAYSCALE)\n",
    "    return image\n",
    "\n",
    "class_labels_list = []\n",
    "images_list = []\n",
    "\n",
    "data_directory = './dataset/'\n",
    "\n",
    "#missing O\n",
    "directories = ['@', \"&\", \"#\", \"$\", 'A', 'B', 'C', 'D', 'E', 'F', 'G', 'H', 'I', 'J', 'K','L','M','N','P','Q','R','S','T','U','V','W','X','Y','Z','0','1','2','3','4','5','6','7','8','9']\n",
    "\n",
    "for class_label, class_name in enumerate(directories):\n",
    "    class_path = os.path.join(data_directory, class_name)\n",
    "    for image_file in os.listdir(class_path):\n",
    "        if image_file.endswith('.jpg'):\n",
    "            image = read_image(class_path, image_file)\n",
    "            images_list.append(image)\n",
    "            class_labels_list.append(class_label)\n",
    "\n",
    "data_x = images_list\n",
    "data_y = class_labels_list\n",
    "\n",
    "X_train, X_test, y_train, y_test = train_test_split(data_x,data_y, \n",
    "                                                    test_size=0.25, \n",
    "                                                    random_state=13)"
   ]
  },
  {
   "cell_type": "code",
   "execution_count": 195,
   "metadata": {},
   "outputs": [],
   "source": [
    "pca = PCA(n_components=50).fit(flatten_images(X_train))\n",
    "X_train_pca = pca.transform(flatten_images(X_train))\n",
    "X_test_pca = pca.transform(flatten_images(X_test))\n"
   ]
  },
  {
   "cell_type": "code",
   "execution_count": 196,
   "metadata": {},
   "outputs": [
    {
     "name": "stdout",
     "output_type": "stream",
     "text": [
      "Random KNN PCA Classifier:\n",
      "Accuracy: 0.881352187361909\n",
      "[[-3.28211515e+02 -5.32633609e+02  2.29520375e+02 -8.44960459e+02\n",
      "   6.81011588e+02  7.48673068e+02  7.61245996e+02 -1.10582802e+02\n",
      "  -2.99536360e+02  1.72209691e+02 -3.24650737e+02 -1.06226978e+02\n",
      "  -9.24326258e+01  6.68993099e+02 -3.70276935e+01 -4.08138458e+01\n",
      "  -3.70619119e+02 -5.79995092e+02  2.96639054e+02 -1.34364177e+02\n",
      "  -3.50951668e+01 -6.31016595e+01  1.22130377e+02  2.31709344e+00\n",
      "  -7.69926684e+01 -1.95595123e+02 -3.41543057e+01  3.13484059e+02\n",
      "  -3.71532050e+02 -1.45166488e+02 -1.70515333e+02 -8.49762041e+01\n",
      "   2.97763409e+02 -6.92049735e-01  7.97243341e+01  1.15748496e+02\n",
      "   1.44694181e+02  1.16171533e+02  8.73223784e+01 -6.62288957e+01\n",
      "  -4.31873561e+01  9.26652737e+01 -9.99983442e+00  2.15731053e+02\n",
      "   2.71922450e+01  2.51691683e+01 -2.22661959e+02 -7.18898130e+01\n",
      "  -1.08418079e+00 -4.53102961e+01]]\n",
      "Random Sample Prediction: R\n"
     ]
    }
   ],
   "source": [
    "pca_knn_classifier = KNeighborsClassifier(n_neighbors=5) \n",
    "pca_knn_classifier.fit(X_train_pca, y_train)\n",
    "pca_knn_predictions = pca_knn_classifier.predict(X_test_pca)\n",
    "pca_knn_accuracy = accuracy_score(y_test, pca_knn_predictions)\n",
    "\n",
    "print(\"Random KNN PCA Classifier:\")\n",
    "print(f\"Accuracy: {pca_knn_accuracy}\")\n",
    "\n",
    "random_sample = X_test[0]\n",
    "print(pca.transform([flatten_image(random_sample)]))\n",
    "random_sample_prediction = pca_knn_classifier.predict(pca.transform([flatten_image(random_sample)]))\n",
    "print(f\"Random Sample Prediction: {directories[random_sample_prediction[0]]}\")"
   ]
  },
  {
   "cell_type": "code",
   "execution_count": 197,
   "metadata": {},
   "outputs": [],
   "source": [
    "\n",
    "def apply_sobel(image):\n",
    "    gx = cv2.Sobel(image, cv2.CV_32F, 1, 0, ksize=5)\n",
    "    gy = cv2.Sobel(image, cv2.CV_32F, 0, 1, ksize=5)\n",
    "\n",
    "    gradient = [gx, gy]\n",
    "    \n",
    "    return gradient\n",
    "\n",
    "x_train_sobel = [apply_sobel(image) for image in X_train]\n",
    "x_test_sobel = [apply_sobel(image) for image in X_test]"
   ]
  },
  {
   "cell_type": "code",
   "execution_count": 198,
   "metadata": {},
   "outputs": [
    {
     "name": "stdout",
     "output_type": "stream",
     "text": [
      "Random KNN Direction Classifier:\n",
      "Accuracy: 0.8331860362350861\n"
     ]
    }
   ],
   "source": [
    "\n",
    "x_test_sobel = flatten_images(x_test_sobel)\n",
    "x_train_sobel = flatten_images(x_train_sobel)\n",
    "\n",
    "sobel_knn_classifier = KNeighborsClassifier(n_neighbors=5)\n",
    "\n",
    "sobel_knn_classifier.fit(x_train_sobel, y_train)\n",
    "\n",
    "sobel_knn_predictions = sobel_knn_classifier.predict(x_test_sobel)\n",
    "\n",
    "sobel_knn_accuracy = accuracy_score(y_test, sobel_knn_predictions)\n",
    "\n",
    "print(\"Random KNN Direction Classifier:\")\n",
    "print(f\"Accuracy: {sobel_knn_accuracy}\")"
   ]
  },
  {
   "cell_type": "code",
   "execution_count": 199,
   "metadata": {},
   "outputs": [
    {
     "name": "stdout",
     "output_type": "stream",
     "text": [
      "Random KNN Combined Classifier:\n",
      "Accuracy: 0.8331860362350861\n"
     ]
    }
   ],
   "source": [
    "X_train_combined = np.concatenate((X_train_pca, x_train_sobel), axis=1)\n",
    "X_test_combined = np.concatenate((X_test_pca, x_test_sobel), axis=1)\n",
    "\n",
    "\n",
    "merged_knn_classifier = KNeighborsClassifier(n_neighbors=5)\n",
    "\n",
    "merged_knn_classifier.fit(X_train_combined, y_train)\n",
    "\n",
    "merged_knn_predictions = merged_knn_classifier.predict(X_test_combined)\n",
    "\n",
    "merged_knn_accuracy = accuracy_score(y_test, merged_knn_predictions)\n",
    "\n",
    "print(\"Random KNN Combined Classifier:\")\n",
    "print(f\"Accuracy: {merged_knn_accuracy}\")\n"
   ]
  },
  {
   "cell_type": "code",
   "execution_count": 210,
   "metadata": {},
   "outputs": [
    {
     "name": "stdout",
     "output_type": "stream",
     "text": [
      "JF2HVM1FHEL\n"
     ]
    },
    {
     "data": {
      "text/plain": [
       "<matplotlib.image.AxesImage at 0x1c964275b80>"
      ]
     },
     "execution_count": 210,
     "metadata": {},
     "output_type": "execute_result"
    },
    {
     "data": {
      "image/png": "[encoded data removed]",
      "text/plain": [
       "<Figure size 432x288 with 1 Axes>"
      ]
     },
     "metadata": {
      "needs_background": "light"
     },
     "output_type": "display_data"
    }
   ],
   "source": [
    "model = pca_knn_classifier\n",
    "\n",
    "def sort_contours(cnts, method=\"left-to-right\"):\n",
    "    reverse = False\n",
    "    i = 0\n",
    "    if method == \"right-to-left\" or method == \"bottom-to-top\":\n",
    "        reverse = True\n",
    "    if method == \"top-to-bottom\" or method == \"bottom-to-top\":\n",
    "        i = 1\n",
    "    boundingBoxes = [cv2.boundingRect(c) for c in cnts]\n",
    "    (cnts, boundingBoxes) = zip(\n",
    "        *sorted(zip(cnts, boundingBoxes), key=lambda b: b[1][i], reverse=reverse)\n",
    "    )\n",
    "    # return the list of sorted contours and bounding boxes\n",
    "    return (cnts, boundingBoxes)\n",
    "\n",
    "\n",
    "def get_letters(img):\n",
    "    letters = []\n",
    "    image = cv2.imread(img)\n",
    "    gray = cv2.cvtColor(image, cv2.COLOR_BGR2GRAY)\n",
    "    ret, thresh1 = cv2.threshold(gray, 127, 255, cv2.THRESH_BINARY_INV)\n",
    "    dilated = cv2.dilate(thresh1, None, iterations=2)\n",
    "    cnts = cv2.findContours(dilated.copy(), cv2.RETR_EXTERNAL, cv2.CHAIN_APPROX_SIMPLE)\n",
    "    cnts = imutils.grab_contours(cnts)\n",
    "    cnts = sort_contours(cnts, method=\"left-to-right\")[0]\n",
    "    for c in cnts:\n",
    "        if cv2.contourArea(c) > 10:\n",
    "            (x, y, w, h) = cv2.boundingRect(c)\n",
    "            cv2.rectangle(image, (x, y), (x + w, y + h), (0, 255, 0), 2)\n",
    "        roi = gray[y : y + h, x : x + w]\n",
    "        thresh = cv2.threshold(roi, 0, 255, cv2.THRESH_BINARY_INV | cv2.THRESH_OTSU)[1]\n",
    "        thresh = cv2.resize(thresh, (image_size,image_size))\n",
    "        thresh = pca.transform([flatten_image(thresh)])\n",
    "        ypred = model.predict(thresh)\n",
    "        [x] = ypred\n",
    "        letters.append(x)\n",
    "    return letters, image\n",
    "\n",
    "\n",
    "def get_word(letter):\n",
    "    word = ''\n",
    "    for letter in letters:\n",
    "        word += directories[letter]\n",
    "    return word\n",
    "    \n",
    "\n",
    "\n",
    "letters, image = get_letters(\n",
    "    \"./dataset/words/validation/VALIDATION_0010.jpg\"\n",
    ")\n",
    "\n",
    "word = get_word(letters)\n",
    "\n",
    "\n",
    "\n",
    "print(word)\n",
    "plt.imshow(image)"
   ]
  }
 ],
 "metadata": {
  "kernelspec": {
   "display_name": "Python 3",
   "language": "python",
   "name": "python3"
  },
  "language_info": {
   "codemirror_mode": {
    "name": "ipython",
    "version": 3
   },
   "file_extension": ".py",
   "mimetype": "text/x-python",
   "name": "python",
   "nbconvert_exporter": "python",
   "pygments_lexer": "ipython3",
   "version": "3.9.4"
  }
 },
 "nbformat": 4,
 "nbformat_minor": 2
}
