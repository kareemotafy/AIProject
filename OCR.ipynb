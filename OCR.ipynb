{
 "cells": [
  {
   "cell_type": "markdown",
   "metadata": {},
   "source": [
    "Kareem Amr Otafy 19/05471\n",
    "Mohamed Amr 19/05441"
   ]
  },
  {
   "cell_type": "markdown",
   "metadata": {},
   "source": [
    "# Declarations"
   ]
  },
  {
   "cell_type": "code",
   "execution_count": 1,
   "metadata": {},
   "outputs": [],
   "source": [
    "# Importing necessary libraries\n",
    "import os\n",
    "import cv2\n",
    "import numpy as np\n",
    "from sklearn.model_selection import train_test_split\n",
    "from sklearn.neighbors import KNeighborsClassifier\n",
    "from sklearn.metrics import accuracy_score\n",
    "from sklearn.decomposition import PCA\n",
    "import imutils\n",
    "import matplotlib.pyplot as plt\n",
    "from sklearn.svm import SVC\n",
    "from sklearn.ensemble import RandomForestClassifier \n",
    "from sklearn.metrics import roc_auc_score, accuracy_score, confusion_matrix\n",
    "from tabulate import tabulate\n",
    "\n",
    "# Setting the image size for resizing\n",
    "image_size = 28\n",
    "\n",
    "def flatten_image(image):\n",
    "    \"\"\"\n",
    "    Flatten the 2D input image into a 1D array.\n",
    "\n",
    "    Parameters:\n",
    "    - image: Input image (2D numpy array)\n",
    "\n",
    "    Returns:\n",
    "    - flattened_image: 1D numpy array\n",
    "    \"\"\"\n",
    "    return np.array(image).flatten()\n",
    "\n",
    "def flatten_images(images):\n",
    "    \"\"\"\n",
    "    Flatten a list of 2D images into a 2D array of flattened images.\n",
    "\n",
    "    Parameters:\n",
    "    - images: List of input images (2D numpy arrays)\n",
    "\n",
    "    Returns:\n",
    "    - flattened_images: 2D numpy array\n",
    "    \"\"\"\n",
    "    return np.array([flatten_image(image) for image in images])\n",
    "\n",
    "def read_image(class_path, image_file):\n",
    "    \"\"\"\n",
    "    Read and preprocess an image from a specified path.\n",
    "\n",
    "    Parameters:\n",
    "    - class_path: Path to the directory containing the image\n",
    "    - image_file: Filename of the image\n",
    "\n",
    "    Returns:\n",
    "    - image: Preprocessed and resized grayscale image (2D numpy array)\n",
    "    \"\"\"\n",
    "    image_path = os.path.join(class_path, image_file)\n",
    "    image =  cv2.imread(image_path, cv2.IMREAD_GRAYSCALE)\n",
    "    image = cv2.resize(image, (image_size, image_size))\n",
    "    return image\n",
    "\n",
    "def apply_sobel(image):\n",
    "    \"\"\"\n",
    "    Apply Sobel edge detection to the input image and extract directional gradient features.\n",
    "\n",
    "    Parameters:\n",
    "    - image: Input grayscale image (2D numpy array)\n",
    "\n",
    "    Returns:\n",
    "    - directional_images: List of flattened 8 directional gradient images\n",
    "    \"\"\"\n",
    "    gx = cv2.Sobel(image, cv2.CV_32F, 1, 0, ksize=3)\n",
    "    gy = cv2.Sobel(image, cv2.CV_32F, 0, 1, ksize=3)\n",
    "    gradient_magnitude = np.sqrt(gx**2 + gy**2)\n",
    "    gradient_angle = np.arctan2(gy, gx)\n",
    "    quantized_angles = (np.round((gradient_angle + np.pi) / (np.pi / 4)) % 8).astype(int)\n",
    "    directional_images = [np.zeros_like(image) for _ in range(8)]\n",
    "\n",
    "    for i in range(8):\n",
    "        directional_images[i][quantized_angles == i] = gradient_magnitude[quantized_angles == i]\n",
    "        directional_images[i] = flatten_image(directional_images[i])\n",
    "    \n",
    "    return directional_images\n"
   ]
  },
  {
   "cell_type": "markdown",
   "metadata": {},
   "source": [
    "## Loading Dataset"
   ]
  },
  {
   "cell_type": "code",
   "execution_count": 2,
   "metadata": {},
   "outputs": [],
   "source": [
    "# Creating empty lists to store class labels and images\n",
    "class_labels_list = []\n",
    "images_list = []\n",
    "\n",
    "# Path to the dataset directory\n",
    "data_directory = './dataset/'\n",
    "\n",
    "# List of class directories in the dataset\n",
    "directories = os.listdir(data_directory)\n",
    "\n",
    "# Loop through each class directory\n",
    "for class_label, class_name in enumerate(directories):\n",
    "    class_path = os.path.join(data_directory, class_name)\n",
    "    \n",
    "    # Loop through each image file in the class directory\n",
    "    for image_file in os.listdir(class_path):\n",
    "        # Check if the file is a JPEG image\n",
    "        if image_file.endswith('.jpg'):\n",
    "            # Read and preprocess the image\n",
    "            image = read_image(class_path, image_file)\n",
    "            \n",
    "            # Append the image and its corresponding class label to the lists\n",
    "            images_list.append(image)\n",
    "            class_labels_list.append(class_label)\n",
    "\n",
    "# Separate data into feature vectors (X) and class labels (y)\n",
    "data_x = images_list\n",
    "data_y = class_labels_list\n",
    "\n",
    "# Split the dataset into training and testing sets\n",
    "X_train, X_test, y_train, y_test = train_test_split(data_x, data_y, \n",
    "                                                    test_size=0.25, \n",
    "                                                    random_state=13)\n"
   ]
  },
  {
   "cell_type": "markdown",
   "metadata": {},
   "source": [
    "## Sobel"
   ]
  },
  {
   "cell_type": "code",
   "execution_count": 3,
   "metadata": {},
   "outputs": [],
   "source": [
    "# Apply Sobel edge detection to each image in the training set and flatten the resulting directional gradient images\n",
    "x_train_sobel = [flatten_image(apply_sobel(image)) for image in X_train]\n",
    "x_test_sobel = [flatten_image(apply_sobel(image)) for image in X_test]\n"
   ]
  },
  {
   "cell_type": "code",
   "execution_count": 4,
   "metadata": {},
   "outputs": [
    {
     "name": "stdout",
     "output_type": "stream",
     "text": [
      "Accuracy of KNN-Sobel Classifier:  0.5643115942028986\n"
     ]
    }
   ],
   "source": [
    "# Define, fit, predict, and accuracy functions for the KNN classifier\n",
    "\n",
    "sobel_knn_classifier = KNeighborsClassifier(n_neighbors=15)\n",
    "sobel_knn_classifier.fit(x_train_sobel, y_train)\n",
    "sobel_knn_predictions = sobel_knn_classifier.predict(x_test_sobel)\n",
    "sobel_knn_accuracy = accuracy_score(y_test, sobel_knn_predictions)\n",
    "print(\"Accuracy of KNN-Sobel Classifier: \", sobel_knn_accuracy)\n"
   ]
  },
  {
   "cell_type": "code",
   "execution_count": 5,
   "metadata": {},
   "outputs": [
    {
     "name": "stdout",
     "output_type": "stream",
     "text": [
      "Accuracy of SVM-Sobel classifier: 0.8152173913043478\n"
     ]
    }
   ],
   "source": [
    "# Define, fit, predict, and accuracy functions for the SVM classifier\n",
    "\n",
    "sobel_svm_classifier = SVC(kernel='rbf', probability=True, C=100)\n",
    "sobel_svm_classifier.fit(x_train_sobel, y_train)\n",
    "sobel_svm_predictions = sobel_svm_classifier.predict(x_test_sobel)\n",
    "sobel_svm_accuracy = accuracy_score(y_test, sobel_svm_predictions)\n",
    "print(\"Accuracy of SVM-Sobel classifier:\", sobel_svm_accuracy)"
   ]
  },
  {
   "cell_type": "markdown",
   "metadata": {},
   "source": [
    "## PCA"
   ]
  },
  {
   "cell_type": "code",
   "execution_count": 5,
   "metadata": {},
   "outputs": [],
   "source": [
    "# Apply PCA to the training and testing sets\n",
    "\n",
    "X_train_flatten = flatten_images(X_train)\n",
    "X_test_flatten = flatten_images(X_test)\n",
    "\n",
    "pca = PCA(n_components=64).fit(X_train_flatten)\n",
    "X_train_pca = pca.transform(X_train_flatten)\n",
    "X_test_pca = pca.transform(X_test_flatten)"
   ]
  },
  {
   "cell_type": "code",
   "execution_count": 6,
   "metadata": {},
   "outputs": [
    {
     "name": "stdout",
     "output_type": "stream",
     "text": [
      "Accuracy of KNN-PCA Classifier: 0.7182971014492754\n"
     ]
    }
   ],
   "source": [
    "# Define, fit, predict, and accuracy functions for the KNN classifier\n",
    "\n",
    "pca_knn_classifier = KNeighborsClassifier(n_neighbors=15) \n",
    "pca_knn_classifier.fit(X_train_pca, y_train)\n",
    "pca_knn_predictions = pca_knn_classifier.predict(X_test_pca)\n",
    "pca_knn_accuracy = accuracy_score(y_test, pca_knn_predictions)\n",
    "print(\"Accuracy of KNN-PCA Classifier:\", pca_knn_accuracy)"
   ]
  },
  {
   "cell_type": "code",
   "execution_count": 7,
   "metadata": {},
   "outputs": [
    {
     "name": "stdout",
     "output_type": "stream",
     "text": [
      "Accuracy of SVM-PCA Classifier: 0.8596014492753623\n"
     ]
    }
   ],
   "source": [
    "# Define, fit, predict, and accuracy functions for the SVM classifier\n",
    "\n",
    "pca_svm_classifier = SVC(kernel='rbf', probability=True,C=100)\n",
    "pca_svm_classifier.fit(X_train_pca, y_train)\n",
    "pca_svm_predictions = pca_svm_classifier.predict(X_test_pca)\n",
    "pca_svm_accuracy = accuracy_score(y_test, pca_svm_predictions)\n",
    "print(\"Accuracy of SVM-PCA Classifier:\", pca_svm_accuracy)"
   ]
  },
  {
   "cell_type": "markdown",
   "metadata": {},
   "source": [
    "## Additional Classifier: Random Forest"
   ]
  },
  {
   "cell_type": "code",
   "execution_count": 8,
   "metadata": {},
   "outputs": [
    {
     "name": "stdout",
     "output_type": "stream",
     "text": [
      "Accuracy of RF-PCA Classifier: 0.7445652173913043\n"
     ]
    }
   ],
   "source": [
    "# Define, fit, predict, and accuracy functions for the Random Forest classifier\n",
    "\n",
    "pca_rf_model = RandomForestClassifier(n_estimators=140, random_state=42)\n",
    "pca_rf_model.fit(X_train_pca, y_train)\n",
    "y_pred = pca_rf_model.predict(X_test_pca)\n",
    "pca_rf_accuracy = accuracy_score(y_test, y_pred)\n",
    "print(\"Accuracy of RF-PCA Classifier:\", pca_rf_accuracy)"
   ]
  },
  {
   "cell_type": "code",
   "execution_count": 9,
   "metadata": {},
   "outputs": [
    {
     "name": "stdout",
     "output_type": "stream",
     "text": [
      "Accuracy of RF-Sobel Classifier: 0.7436594202898551\n"
     ]
    }
   ],
   "source": [
    "# Define, fit, predict, and accuracy functions for the Random Forest classifier\n",
    "\n",
    "sobel_rf_model = RandomForestClassifier(n_estimators=160, random_state=42)\n",
    "sobel_rf_model.fit(x_train_sobel, y_train)\n",
    "y_pred = sobel_rf_model.predict(x_test_sobel)\n",
    "sobel_rf_accuracy = accuracy_score(y_test, y_pred)\n",
    "print(\"Accuracy of RF-Sobel Classifier:\", sobel_rf_accuracy)"
   ]
  },
  {
   "cell_type": "code",
   "execution_count": 11,
   "metadata": {},
   "outputs": [
    {
     "name": "stdout",
     "output_type": "stream",
     "text": [
      "JFhN4MIfNGL\n",
      "JEAN-MICHEL\n"
     ]
    },
    {
     "data": {
      "text/plain": [
       "<matplotlib.image.AxesImage at 0x1620ba973d0>"
      ]
     },
     "execution_count": 11,
     "metadata": {},
     "output_type": "execute_result"
    },
    {
     "data": {
      "image/png": "[encoded data removed]",
      "text/plain": [
       "<Figure size 432x288 with 1 Axes>"
      ]
     },
     "metadata": {
      "needs_background": "light"
     },
     "output_type": "display_data"
    }
   ],
   "source": [
    "# Define the machine learning model to be used for letter recognition\n",
    "model = sobel_rf_model\n",
    "def sort_contours(cnts, method=\"left-to-right\"):\n",
    "    \"\"\"\n",
    "    Sort contours based on a specified method.\n",
    "\n",
    "    Parameters:\n",
    "    - cnts: List of contours\n",
    "    - method: Sorting method (\"left-to-right\", \"right-to-left\", \"top-to-bottom\", or \"bottom-to-top\")\n",
    "\n",
    "    Returns:\n",
    "    - Tuple containing sorted contours and their bounding boxes\n",
    "    \"\"\"\n",
    "    reverse = False\n",
    "    i = 0\n",
    "\n",
    "    if method == \"right-to-left\" or method == \"bottom-to-top\":\n",
    "        reverse = True\n",
    "\n",
    "    if method == \"top-to-bottom\" or method == \"bottom-to-top\":\n",
    "        i = 1\n",
    "\n",
    "    # Extract bounding boxes for each contour\n",
    "    boundingBoxes = [cv2.boundingRect(c) for c in cnts]\n",
    "\n",
    "    # Sort contours and bounding boxes based on the specified method\n",
    "    (cnts, boundingBoxes) = zip(\n",
    "        *sorted(zip(cnts, boundingBoxes), key=lambda b: b[1][i], reverse=reverse)\n",
    "    )\n",
    "\n",
    "    # Return the list of sorted contours and bounding boxes\n",
    "    return (cnts, boundingBoxes)\n",
    "\n",
    "\n",
    "\n",
    "def get_letters(img):\n",
    "    letters = []\n",
    "    image = cv2.imread(img)\n",
    "    gray = cv2.cvtColor(image, cv2.COLOR_BGR2GRAY)\n",
    "    # Invert image from white background with black text to black background with white text \n",
    "    ret, thresh1 = cv2.threshold(gray, 127, 255, cv2.THRESH_BINARY_INV)\n",
    "    # Apply dilation to make letters more clear\n",
    "    dilated = cv2.dilate(thresh1, None, iterations=2)\n",
    "    # Find contours of letters\n",
    "    cnts = cv2.findContours(dilated.copy(), cv2.RETR_EXTERNAL, cv2.CHAIN_APPROX_SIMPLE)\n",
    "    # Extract contours\n",
    "    cnts = imutils.grab_contours(cnts)\n",
    "    cnts = sort_contours(cnts, method=\"left-to-right\")[0]\n",
    "    for c in cnts:\n",
    "        if cv2.contourArea(c) > 10:\n",
    "            (x, y, w, h) = cv2.boundingRect(c)\n",
    "            # Draw rectangle around contour in original image\n",
    "            cv2.rectangle(image, (x, y), (x + w, y + h), (0, 255, 0), 2)\n",
    "        #Extract each letter and resize it to 28x28 pixels with thresholding applied\n",
    "        roi = gray[y : y + h, x : x + w]\n",
    "        thresh = cv2.threshold(roi, 0, 255, cv2.THRESH_BINARY_INV | cv2.THRESH_OTSU)[1]\n",
    "        thresh = cv2.resize(thresh, (image_size,image_size))\n",
    "        # Apply model specific transformation\n",
    "        # thresh = pca.transform([flatten_image(thresh)])\n",
    "        thresh =  [flatten_image(apply_sobel(thresh))] \n",
    "        ypred = model.predict(thresh)\n",
    "        [x] = ypred\n",
    "        letters.append(x)\n",
    "    return letters, image\n",
    "\n",
    "\n",
    "def get_word(letters):\n",
    "    \"\"\"\n",
    "    Reconstruct a word from a list of predicted letters.\n",
    "\n",
    "    Parameters:\n",
    "    - letters: List of predicted letter class labels\n",
    "\n",
    "    Returns:\n",
    "    - Reconstructed word as a string\n",
    "    \"\"\"\n",
    "    word = ''\n",
    "    for letter in letters:\n",
    "        word += directories[letter]\n",
    "    return word\n",
    "\n",
    "    \n",
    "\n",
    "\n",
    "letters, image = get_letters(\n",
    "    \"../AIProject/2.jpg\"\n",
    ")\n",
    "\n",
    "word = get_word(letters)\n",
    "\n",
    "\n",
    "import re\n",
    "def transform_string(input_string):\n",
    "    \"\"\"\n",
    "    Transform a string based on a specified pattern as lower case letters are specified as @_.\n",
    "\n",
    "    Parameters:\n",
    "    - input_string: Input string to be transformed\n",
    "\n",
    "    Returns:\n",
    "    - Transformed string\n",
    "    \"\"\"\n",
    "    pattern = r'@_([A-Z])'\n",
    "    \n",
    "    # Replace matched patterns by converting the uppercase letter to lowercase\n",
    "    result = re.sub(pattern, lambda match: match.group(1).lower(), input_string)\n",
    "    \n",
    "    # Remove any remaining occurrences of '@_'\n",
    "    result = result.replace('@_', '')\n",
    "    \n",
    "    return result\n",
    "\n",
    "\n",
    "\n",
    "print(transform_string(word))\n",
    "print(\"JEAN-MICHEL\")\n",
    "plt.imshow(image)"
   ]
  },
  {
   "cell_type": "markdown",
   "metadata": {},
   "source": [
    "# Base Metrics"
   ]
  },
  {
   "cell_type": "code",
   "execution_count": 12,
   "metadata": {},
   "outputs": [
    {
     "name": "stdout",
     "output_type": "stream",
     "text": [
      "Area Under the Curve (AUC) for KNN-PCA classifier: 0.9824512825712063\n",
      "Area Under the Curve (AUC) for SVM-PCA classifier: 0.9953672240691946\n",
      "Area Under the Curve (AUC) for KNN-Sobel classifier: 0.9438729258133381\n",
      "Area Under the Curve (AUC) for SVM-Sobel classifier: 0.9946413905621188\n",
      "Area Under the Curve (AUC) for RF-Sobel classifier: 0.9841878529157969\n",
      "Area Under the Curve (AUC) for RF-Sobel classifier: 0.9814887580433457\n"
     ]
    }
   ],
   "source": [
    "# Calculate the area under the ROC curve for each classifier/ feature extraction method\n",
    "\n",
    "pca_knn_probabilities = pca_knn_classifier.predict_proba(X_test_pca)\n",
    "pca_knn_auc = roc_auc_score(y_test, pca_knn_probabilities, multi_class='ovr')\n",
    "print(\"Area Under the Curve (AUC) for KNN-PCA classifier:\", pca_knn_auc)\n",
    "\n",
    "pca_svm_probabilities = pca_svm_classifier.predict_proba(X_test_pca)\n",
    "pca_svm_auc = roc_auc_score(y_test, pca_svm_probabilities, multi_class='ovr')\n",
    "print(\"Area Under the Curve (AUC) for SVM-PCA classifier:\", pca_svm_auc)\n",
    "\n",
    "sobel_knn_probabilities = sobel_knn_classifier.predict_proba(x_test_sobel)\n",
    "sobel_knn_auc = roc_auc_score(y_test, sobel_knn_probabilities, multi_class='ovr')\n",
    "print(\"Area Under the Curve (AUC) for KNN-Sobel classifier:\", sobel_knn_auc)\n",
    "\n",
    "sobel_svm_probabilities = sobel_svm_classifier.predict_proba(x_test_sobel)\n",
    "sobel_svm_auc = roc_auc_score(y_test, sobel_svm_probabilities, multi_class='ovr')\n",
    "print(\"Area Under the Curve (AUC) for SVM-Sobel classifier:\", sobel_svm_auc)\n",
    "\n",
    "sobel_rf_probabilities = sobel_rf_model.predict_proba(x_test_sobel)\n",
    "sobel_svm_auc = roc_auc_score(y_test, sobel_rf_probabilities, multi_class='ovr')\n",
    "print(\"Area Under the Curve (AUC) for RF-Sobel classifier:\", sobel_svm_auc)\n",
    "\n",
    "pca_rf_probabilities = pca_rf_model.predict_proba(X_test_pca)\n",
    "sobel_svm_auc = roc_auc_score(y_test, pca_rf_probabilities, multi_class='ovr')\n",
    "print(\"Area Under the Curve (AUC) for RF-Sobel classifier:\", sobel_svm_auc)\n"
   ]
  },
  {
   "cell_type": "code",
   "execution_count": 13,
   "metadata": {},
   "outputs": [
    {
     "data": {
      "image/png": "[encoded data removed]",
      "text/plain": [
       "<Figure size 432x288 with 1 Axes>"
      ]
     },
     "metadata": {
      "needs_background": "light"
     },
     "output_type": "display_data"
    }
   ],
   "source": [
    "# Plot the theoretical accuracy of each classifier/ feature extraction method\n",
    "\n",
    "X = ['KNN','SVM','RF'] \n",
    "PCA = [pca_knn_accuracy,pca_svm_accuracy,pca_rf_accuracy] \n",
    "SOBEL = [sobel_knn_accuracy,sobel_svm_accuracy,sobel_rf_accuracy] \n",
    "  \n",
    "X_axis = np.arange(len(X)) \n",
    "  \n",
    "plt.bar(X_axis - 0.2, PCA, 0.4, label = 'PCA' ) \n",
    "plt.bar(X_axis + 0.2, SOBEL, 0.4, label = 'SOBEL') \n",
    "\n",
    "plt.ylim(0, 1)  \n",
    "\n",
    "plt.xticks(X_axis, X) \n",
    "plt.xlabel(\"Classifiers\") \n",
    "plt.ylabel(\"Accuracy\") \n",
    "plt.title(\"Theoretical accuracy\") \n",
    "plt.legend() \n",
    "plt.show() "
   ]
  },
  {
   "cell_type": "code",
   "execution_count": 14,
   "metadata": {},
   "outputs": [
    {
     "data": {
      "image/png": "[encoded data removed]",
      "text/plain": [
       "<Figure size 432x288 with 1 Axes>"
      ]
     },
     "metadata": {
      "needs_background": "light"
     },
     "output_type": "display_data"
    }
   ],
   "source": [
    "# Plot the practical accuracy of each classifier/ feature extraction method\n",
    "\n",
    "X = ['KNN','SVM','RF'] \n",
    "PCA = [0.4,0.7,0.5] \n",
    "SOBEL = [0.3,0.4,0.5] \n",
    "  \n",
    "X_axis = np.arange(len(X)) \n",
    "  \n",
    "plt.bar(X_axis - 0.2, PCA, 0.4, label = 'PCA' ) \n",
    "plt.bar(X_axis + 0.2, SOBEL, 0.4, label = 'SOBEL') \n",
    "\n",
    "plt.ylim(0, 1)  \n",
    "\n",
    "plt.xticks(X_axis, X) \n",
    "plt.xlabel(\"Classifiers\") \n",
    "plt.ylabel(\"Accuracy\") \n",
    "plt.title(\"Practical accuracy\") \n",
    "plt.legend() \n",
    "plt.show() "
   ]
  },
  {
   "cell_type": "code",
   "execution_count": 15,
   "metadata": {},
   "outputs": [
    {
     "name": "stdout",
     "output_type": "stream",
     "text": [
      "Confusion Matrix:\n",
      "+--------------+----+----+----+----+----+----+----+----+----+----+\n",
      "| Predict/true |  0 |  1 |  2 |  3 |  4 |  5 |  6 |  7 |  8 |  9 |\n",
      "+--------------+----+----+----+----+----+----+----+----+----+----+\n",
      "|      0       | 24 |  0 |  0 |  0 |  0 |  0 |  0 |  0 |  0 |  0 |\n",
      "+--------------+----+----+----+----+----+----+----+----+----+----+\n",
      "|      1       |  0 | 22 |  0 |  0 |  0 |  0 |  0 |  0 |  0 |  0 |\n",
      "+--------------+----+----+----+----+----+----+----+----+----+----+\n",
      "|      2       |  0 |  0 | 20 |  0 |  0 |  0 |  0 |  0 |  0 |  0 |\n",
      "+--------------+----+----+----+----+----+----+----+----+----+----+\n",
      "|      3       |  0 |  1 |  0 | 18 |  0 |  1 |  0 |  1 |  0 |  0 |\n",
      "+--------------+----+----+----+----+----+----+----+----+----+----+\n",
      "|      4       |  0 |  0 |  0 |  0 | 24 |  0 |  0 |  0 |  0 |  1 |\n",
      "+--------------+----+----+----+----+----+----+----+----+----+----+\n",
      "|      5       |  0 |  0 |  0 |  0 |  0 | 23 |  0 |  0 |  0 |  0 |\n",
      "+--------------+----+----+----+----+----+----+----+----+----+----+\n",
      "|      6       |  0 |  0 |  0 |  0 |  0 |  0 | 26 |  0 |  0 |  0 |\n",
      "+--------------+----+----+----+----+----+----+----+----+----+----+\n",
      "|      7       |  0 |  2 |  0 |  0 |  1 |  0 |  0 | 21 |  0 |  0 |\n",
      "+--------------+----+----+----+----+----+----+----+----+----+----+\n",
      "|      8       |  0 |  0 |  0 |  0 |  0 |  0 |  0 |  2 | 27 |  0 |\n",
      "+--------------+----+----+----+----+----+----+----+----+----+----+\n",
      "|      9       |  0 |  0 |  0 |  0 |  0 |  0 |  0 |  0 |  0 | 26 |\n",
      "+--------------+----+----+----+----+----+----+----+----+----+----+\n"
     ]
    }
   ],
   "source": [
    "# Calculate Confusion Matrix\n",
    "conf_matrix_KNN_PCA = confusion_matrix(y_test, pca_knn_predictions)\n",
    "\n",
    "# Display Confusion Matrix as a table\n",
    "headers = ['Predict/true'] + [str(i) for i in range(10)]   \n",
    "conf_matrix_with_headers = np.row_stack((headers, np.column_stack(([f'{i}' for i in range(10)], conf_matrix_KNN_PCA[:10, :10]))))\n",
    "\n",
    "confusion_table = tabulate(conf_matrix_with_headers, tablefmt=\"grid\", showindex=False, stralign=\"center\")\n",
    "print(\"Confusion Matrix:\")\n",
    "print(confusion_table)\n"
   ]
  },
  {
   "cell_type": "code",
   "execution_count": 16,
   "metadata": {},
   "outputs": [
    {
     "name": "stdout",
     "output_type": "stream",
     "text": [
      "KNN-PCA-Sensitivity:  0.6666666666666666\n",
      "KNN-PCA-Specificity:  0.9888268156424581\n",
      "KNN-PCA-Precision:  0.625\n",
      "KNN-PCA-Recall:  0.6666666666666666\n",
      "KNN-PCA-F1-score:  0.6451612903225806\n"
     ]
    }
   ],
   "source": [
    "num_categories = conf_matrix_KNN_PCA.shape[0]\n",
    "\n",
    "metrics = {}\n",
    "\n",
    "for i in range(num_categories):\n",
    "    TP = conf_matrix_KNN_PCA[i, i]\n",
    "    FN = np.sum(conf_matrix_KNN_PCA[i, :]) - TP\n",
    "    FP = np.sum(conf_matrix_KNN_PCA[:, i]) - TP\n",
    "    TN = np.sum(conf_matrix_KNN_PCA) - TP - FN - FP\n",
    "\n",
    "    sensitivity = TP / (TP + FN)\n",
    "    specificity = TN / (TN + FP)\n",
    "    precision = TP / (TP + FP)\n",
    "    recall = sensitivity\n",
    "    f1_score = 2 * (precision * recall) / (precision + recall)\n",
    "\n",
    "    metrics[i] = {\"Sensitivity\": sensitivity,\n",
    "                  \"Specificity\": specificity,\n",
    "                  \"Precision\": precision,\n",
    "                  \"Recall\": recall,\n",
    "                  \"F1-score\": f1_score}\n",
    "print(\"KNN-PCA-Sensitivity: \",sensitivity)\n",
    "print(\"KNN-PCA-Specificity: \",specificity)\n",
    "print(\"KNN-PCA-Precision: \",precision)\n",
    "print(\"KNN-PCA-Recall: \",recall)\n",
    "print(\"KNN-PCA-F1-score: \",f1_score)"
   ]
  },
  {
   "cell_type": "code",
   "execution_count": 17,
   "metadata": {},
   "outputs": [
    {
     "name": "stdout",
     "output_type": "stream",
     "text": [
      "Confusion Matrix:\n",
      "+--------------+----+----+----+----+----+----+----+----+----+----+\n",
      "| Predict/true |  0 |  1 |  2 |  3 |  4 |  5 |  6 |  7 |  8 |  9 |\n",
      "+--------------+----+----+----+----+----+----+----+----+----+----+\n",
      "|      0       | 26 |  0 |  0 |  0 |  0 |  0 |  0 |  0 |  0 |  0 |\n",
      "+--------------+----+----+----+----+----+----+----+----+----+----+\n",
      "|      1       |  0 | 21 |  0 |  0 |  0 |  0 |  0 |  0 |  0 |  0 |\n",
      "+--------------+----+----+----+----+----+----+----+----+----+----+\n",
      "|      2       |  0 |  4 | 19 |  0 |  0 |  0 |  0 |  0 |  0 |  0 |\n",
      "+--------------+----+----+----+----+----+----+----+----+----+----+\n",
      "|      3       |  0 |  3 |  0 | 16 |  0 |  0 |  0 |  2 |  0 |  0 |\n",
      "+--------------+----+----+----+----+----+----+----+----+----+----+\n",
      "|      4       |  0 |  4 |  0 |  0 | 24 |  0 |  0 |  0 |  0 |  0 |\n",
      "+--------------+----+----+----+----+----+----+----+----+----+----+\n",
      "|      5       |  0 |  0 |  0 |  1 |  0 | 22 |  0 |  0 |  0 |  0 |\n",
      "+--------------+----+----+----+----+----+----+----+----+----+----+\n",
      "|      6       |  0 |  6 |  0 |  0 |  0 |  0 | 19 |  0 |  0 |  0 |\n",
      "+--------------+----+----+----+----+----+----+----+----+----+----+\n",
      "|      7       |  0 |  6 |  0 |  0 |  0 |  0 |  0 | 18 |  0 |  0 |\n",
      "+--------------+----+----+----+----+----+----+----+----+----+----+\n",
      "|      8       |  0 |  9 |  0 |  0 |  0 |  0 |  0 |  2 | 18 |  0 |\n",
      "+--------------+----+----+----+----+----+----+----+----+----+----+\n",
      "|      9       |  0 |  2 |  0 |  0 |  0 |  0 |  0 |  3 |  0 | 18 |\n",
      "+--------------+----+----+----+----+----+----+----+----+----+----+\n"
     ]
    }
   ],
   "source": [
    "# Calculate Confusion Matrix\n",
    "conf_matrix_KNN_SOBEL = confusion_matrix(y_test, sobel_knn_predictions)\n",
    "\n",
    "# Display Confusion Matrix as a table\n",
    "headers = ['Predict/true'] + [str(i) for i in range(10)]   \n",
    "conf_matrix_with_headers = np.row_stack((headers, np.column_stack(([f'{i}' for i in range(10)], conf_matrix_KNN_SOBEL[:10, :10]))))\n",
    "\n",
    "confusion_table = tabulate(conf_matrix_with_headers, tablefmt=\"grid\", showindex=False, stralign=\"center\")\n",
    "print(\"Confusion Matrix:\")\n",
    "print(confusion_table)"
   ]
  },
  {
   "cell_type": "code",
   "execution_count": 18,
   "metadata": {},
   "outputs": [
    {
     "name": "stdout",
     "output_type": "stream",
     "text": [
      "KNN-SOBEL-Sensitivity 0.5666666666666667\n",
      "KNN-SOBEL-Specificity 0.9962756052141527\n",
      "KNN-SOBEL-Precision 0.8095238095238095\n",
      "KNN-SOBEL-Recall 0.5666666666666667\n",
      "KNN-SOBEL-F1-score 0.6666666666666666\n"
     ]
    }
   ],
   "source": [
    "num_categories = conf_matrix_KNN_SOBEL.shape[0]\n",
    "\n",
    "metrics = {}\n",
    "\n",
    "for i in range(num_categories):\n",
    "    TP = conf_matrix_KNN_SOBEL[i, i]\n",
    "    FN = np.sum(conf_matrix_KNN_SOBEL[i, :]) - TP\n",
    "    FP = np.sum(conf_matrix_KNN_SOBEL[:, i]) - TP\n",
    "    TN = np.sum(conf_matrix_KNN_SOBEL) - TP - FN - FP\n",
    "\n",
    "    sensitivity = TP / (TP + FN)\n",
    "    specificity = TN / (TN + FP)\n",
    "    precision = TP / (TP + FP)\n",
    "    recall = sensitivity\n",
    "    f1_score = 2 * (precision * recall) / (precision + recall)\n",
    "\n",
    "    metrics[i] = {\"Sensitivity\": sensitivity,\n",
    "                  \"Specificity\": specificity,\n",
    "                  \"Precision\": precision,\n",
    "                  \"Recall\": recall,\n",
    "                  \"F1-score\": f1_score}\n",
    "print(\"KNN-SOBEL-Sensitivity\",sensitivity)\n",
    "print(\"KNN-SOBEL-Specificity\",specificity)\n",
    "print(\"KNN-SOBEL-Precision\",precision)\n",
    "print(\"KNN-SOBEL-Recall\",recall)\n",
    "print(\"KNN-SOBEL-F1-score\",f1_score)"
   ]
  },
  {
   "cell_type": "code",
   "execution_count": 19,
   "metadata": {},
   "outputs": [
    {
     "name": "stdout",
     "output_type": "stream",
     "text": [
      "Confusion Matrix:\n",
      "+--------------+----+----+----+----+----+----+----+----+----+----+\n",
      "| Predict/true |  0 |  1 |  2 |  3 |  4 |  5 |  6 |  7 |  8 |  9 |\n",
      "+--------------+----+----+----+----+----+----+----+----+----+----+\n",
      "|      0       | 25 |  0 |  0 |  0 |  0 |  0 |  0 |  0 |  0 |  0 |\n",
      "+--------------+----+----+----+----+----+----+----+----+----+----+\n",
      "|      1       |  0 | 22 |  0 |  0 |  0 |  0 |  0 |  0 |  0 |  0 |\n",
      "+--------------+----+----+----+----+----+----+----+----+----+----+\n",
      "|      2       |  0 |  0 | 25 |  0 |  0 |  0 |  0 |  0 |  0 |  0 |\n",
      "+--------------+----+----+----+----+----+----+----+----+----+----+\n",
      "|      3       |  0 |  0 |  0 | 19 |  0 |  1 |  0 |  0 |  1 |  0 |\n",
      "+--------------+----+----+----+----+----+----+----+----+----+----+\n",
      "|      4       |  0 |  0 |  0 |  0 | 28 |  0 |  0 |  0 |  0 |  0 |\n",
      "+--------------+----+----+----+----+----+----+----+----+----+----+\n",
      "|      5       |  0 |  0 |  0 |  0 |  0 | 24 |  0 |  0 |  0 |  0 |\n",
      "+--------------+----+----+----+----+----+----+----+----+----+----+\n",
      "|      6       |  0 |  0 |  0 |  0 |  0 |  0 | 28 |  0 |  0 |  0 |\n",
      "+--------------+----+----+----+----+----+----+----+----+----+----+\n",
      "|      7       |  0 |  0 |  0 |  0 |  0 |  0 |  0 | 22 |  0 |  0 |\n",
      "+--------------+----+----+----+----+----+----+----+----+----+----+\n",
      "|      8       |  0 |  0 |  0 |  0 |  0 |  0 |  0 |  0 | 28 |  0 |\n",
      "+--------------+----+----+----+----+----+----+----+----+----+----+\n",
      "|      9       |  0 |  0 |  0 |  0 |  0 |  0 |  0 |  0 |  0 | 23 |\n",
      "+--------------+----+----+----+----+----+----+----+----+----+----+\n"
     ]
    }
   ],
   "source": [
    "# Calculate Confusion Matrix\n",
    "conf_matrix_SVM_PCA = confusion_matrix(y_test, pca_svm_predictions)\n",
    "\n",
    "# Display Confusion Matrix as a table\n",
    "headers = ['Predict/true'] + [str(i) for i in range(10)]   \n",
    "conf_matrix_with_headers = np.row_stack((headers, np.column_stack(([f'{i}' for i in range(10)], conf_matrix_SVM_PCA[:10, :10]))))\n",
    "\n",
    "confusion_table = tabulate(conf_matrix_with_headers, tablefmt=\"grid\", showindex=False, stralign=\"center\")\n",
    "print(\"Confusion Matrix:\")\n",
    "print(confusion_table)"
   ]
  },
  {
   "cell_type": "code",
   "execution_count": 20,
   "metadata": {},
   "outputs": [
    {
     "name": "stdout",
     "output_type": "stream",
     "text": [
      "SVM-PCA-Sensitivity:  0.8\n",
      "SVM-PCA-Specificity:  0.9953445065176909\n",
      "SVM-PCA-Precision:  0.8275862068965517\n",
      "SVM-PCA-Recall:  0.8\n",
      "SVM-PCA-F1-score:  0.8135593220338982\n"
     ]
    }
   ],
   "source": [
    "num_categories = conf_matrix_SVM_PCA.shape[0]\n",
    "\n",
    "metrics = {}\n",
    "\n",
    "for i in range(num_categories):\n",
    "    TP = conf_matrix_SVM_PCA[i, i]\n",
    "    FN = np.sum(conf_matrix_SVM_PCA[i, :]) - TP\n",
    "    FP = np.sum(conf_matrix_SVM_PCA[:, i]) - TP\n",
    "    TN = np.sum(conf_matrix_SVM_PCA) - TP - FN - FP\n",
    "\n",
    "    sensitivity = TP / (TP + FN)\n",
    "    specificity = TN / (TN + FP)\n",
    "    precision = TP / (TP + FP)\n",
    "    recall = sensitivity\n",
    "    f1_score = 2 * (precision * recall) / (precision + recall)\n",
    "\n",
    "    metrics[i] = {\"Sensitivity\": sensitivity,\n",
    "                  \"Specificity\": specificity,\n",
    "                  \"Precision\": precision,\n",
    "                  \"Recall\": recall,\n",
    "                  \"F1-score\": f1_score}\n",
    "print(\"SVM-PCA-Sensitivity: \",sensitivity)\n",
    "print(\"SVM-PCA-Specificity: \",specificity)\n",
    "print(\"SVM-PCA-Precision: \",precision)\n",
    "print(\"SVM-PCA-Recall: \",recall)\n",
    "print(\"SVM-PCA-F1-score: \",f1_score)"
   ]
  },
  {
   "cell_type": "code",
   "execution_count": 21,
   "metadata": {},
   "outputs": [
    {
     "name": "stdout",
     "output_type": "stream",
     "text": [
      "Confusion Matrix:\n",
      "+--------------+----+----+----+----+----+----+----+----+----+----+\n",
      "| Predict/true |  0 |  1 |  2 |  3 |  4 |  5 |  6 |  7 |  8 |  9 |\n",
      "+--------------+----+----+----+----+----+----+----+----+----+----+\n",
      "|      0       | 25 |  0 |  0 |  0 |  0 |  0 |  0 |  0 |  0 |  0 |\n",
      "+--------------+----+----+----+----+----+----+----+----+----+----+\n",
      "|      1       |  0 | 22 |  0 |  0 |  0 |  0 |  0 |  0 |  0 |  0 |\n",
      "+--------------+----+----+----+----+----+----+----+----+----+----+\n",
      "|      2       |  0 |  0 | 21 |  0 |  0 |  0 |  0 |  0 |  0 |  0 |\n",
      "+--------------+----+----+----+----+----+----+----+----+----+----+\n",
      "|      3       |  0 |  0 |  0 | 18 |  0 |  0 |  0 |  1 |  1 |  0 |\n",
      "+--------------+----+----+----+----+----+----+----+----+----+----+\n",
      "|      4       |  0 |  0 |  0 |  0 | 28 |  0 |  0 |  0 |  0 |  0 |\n",
      "+--------------+----+----+----+----+----+----+----+----+----+----+\n",
      "|      5       |  0 |  0 |  0 |  0 |  0 | 22 |  0 |  0 |  0 |  0 |\n",
      "+--------------+----+----+----+----+----+----+----+----+----+----+\n",
      "|      6       |  0 |  0 |  0 |  0 |  0 |  0 | 23 |  0 |  0 |  0 |\n",
      "+--------------+----+----+----+----+----+----+----+----+----+----+\n",
      "|      7       |  0 |  0 |  0 |  0 |  0 |  0 |  0 | 22 |  0 |  0 |\n",
      "+--------------+----+----+----+----+----+----+----+----+----+----+\n",
      "|      8       |  0 |  0 |  0 |  0 |  0 |  0 |  0 |  0 | 27 |  1 |\n",
      "+--------------+----+----+----+----+----+----+----+----+----+----+\n",
      "|      9       |  0 |  0 |  0 |  0 |  0 |  0 |  0 |  0 |  0 | 21 |\n",
      "+--------------+----+----+----+----+----+----+----+----+----+----+\n"
     ]
    }
   ],
   "source": [
    "# Calculate Confusion Matrix\n",
    "conf_matrix_SVM_SOBEL = confusion_matrix(y_test, sobel_svm_predictions)\n",
    "\n",
    "# Display Confusion Matrix as a table\n",
    "headers = ['Predict/true'] + [str(i) for i in range(10)]   \n",
    "conf_matrix_with_headers = np.row_stack((headers, np.column_stack(([f'{i}' for i in range(10)], conf_matrix_SVM_SOBEL[:10, :10]))))\n",
    "\n",
    "confusion_table = tabulate(conf_matrix_with_headers, tablefmt=\"grid\", showindex=False, stralign=\"center\")\n",
    "print(\"Confusion Matrix:\")\n",
    "print(confusion_table)"
   ]
  },
  {
   "cell_type": "code",
   "execution_count": 22,
   "metadata": {},
   "outputs": [
    {
     "name": "stdout",
     "output_type": "stream",
     "text": [
      "SVM-SOBEL-Sensitivity:  0.8666666666666667\n",
      "SVM-SOBEL-Specificity:  0.994413407821229\n",
      "SVM-SOBEL-Precision:  0.8125\n",
      "SVM-SOBEL-Recall:  0.8666666666666667\n",
      "SVM-SOBEL-F1-score:  0.8387096774193549\n"
     ]
    }
   ],
   "source": [
    "num_categories = conf_matrix_SVM_SOBEL.shape[0]\n",
    "\n",
    "metrics = {}\n",
    "\n",
    "for i in range(num_categories):\n",
    "    TP = conf_matrix_SVM_SOBEL[i, i]\n",
    "    FN = np.sum(conf_matrix_SVM_SOBEL[i, :]) - TP\n",
    "    FP = np.sum(conf_matrix_SVM_SOBEL[:, i]) - TP\n",
    "    TN = np.sum(conf_matrix_SVM_SOBEL) - TP - FN - FP\n",
    "\n",
    "    sensitivity = TP / (TP + FN)\n",
    "    specificity = TN / (TN + FP)\n",
    "    precision = TP / (TP + FP)\n",
    "    recall = sensitivity\n",
    "    f1_score = 2 * (precision * recall) / (precision + recall)\n",
    "\n",
    "    metrics[i] = {\"Sensitivity\": sensitivity,\n",
    "                  \"Specificity\": specificity,\n",
    "                  \"Precision\": precision,\n",
    "                  \"Recall\": recall,\n",
    "                  \"F1-score\": f1_score}\n",
    "print(\"SVM-SOBEL-Sensitivity: \",sensitivity)\n",
    "print(\"SVM-SOBEL-Specificity: \",specificity)\n",
    "print(\"SVM-SOBEL-Precision: \",precision)\n",
    "print(\"SVM-SOBEL-Recall: \",recall)\n",
    "print(\"SVM-SOBEL-F1-score: \",f1_score)"
   ]
  },
  {
   "cell_type": "markdown",
   "metadata": {},
   "source": [
    "# Alternative Metrics"
   ]
  },
  {
   "cell_type": "code",
   "execution_count": 17,
   "metadata": {},
   "outputs": [],
   "source": [
    "# loop through each case and save all results in a list\n",
    "# kernel: [rbf, poly]\n",
    "# C: [10, 100]\n",
    "\n",
    "svm_x = [10,100]\n",
    "svm_sobel_y = []\n",
    "svm_pca_y = []\n",
    "for i in svm_x:\n",
    "    classifier = SVC(kernel='rbf', probability=True, C=i)\n",
    "    classifier.fit(x_train_sobel, y_train)\n",
    "    predictions = classifier.predict(x_test_sobel)\n",
    "    accuracy = accuracy_score(y_test, predictions)\n",
    "    svm_sobel_y.append(accuracy)\n",
    "for i in svm_x:\n",
    "    classifier = SVC(kernel='poly', probability=True, C=i)\n",
    "    classifier.fit(x_train_sobel, y_train)\n",
    "    predictions = classifier.predict(x_test_sobel)\n",
    "    accuracy = accuracy_score(y_test, predictions)\n",
    "    svm_sobel_y.append(accuracy)\n",
    "\n",
    "for i in svm_x:\n",
    "    classifier = SVC(kernel='rbf', probability=True,C=i)\n",
    "    classifier.fit(X_train_pca, y_train)\n",
    "    predictions = classifier.predict(X_test_pca)\n",
    "    accuracy = accuracy_score(y_test, pca_svm_predictions)\n",
    "    svm_pca_y.append(accuracy)\n",
    "for i in svm_x:\n",
    "    classifier = SVC(kernel='poly', probability=True,C=i)\n",
    "    classifier.fit(X_train_pca, y_train)\n",
    "    predictions = classifier.predict(X_test_pca)\n",
    "    accuracy = accuracy_score(y_test, pca_svm_predictions)\n",
    "    svm_pca_y.append(accuracy)\n",
    "\n"
   ]
  },
  {
   "cell_type": "code",
   "execution_count": 19,
   "metadata": {},
   "outputs": [
    {
     "data": {
      "image/png": "[encoded data removed]",
      "text/plain": [
       "<Figure size 432x288 with 1 Axes>"
      ]
     },
     "metadata": {
      "needs_background": "light"
     },
     "output_type": "display_data"
    }
   ],
   "source": [
    "x= flatten_image([svm_x,svm_x])\n",
    "plt.plot(x, svm_sobel_y, label = \"Sobel\", marker = 'o', linestyle = \"none\") \n",
    "plt.plot(x,svm_pca_y , label = \"PCA\", marker = 'o', linestyle = \"none\") \n",
    "plt.xlabel(\"C\") \n",
    "plt.ylabel(\"Accuracy\") \n",
    "plt.title(\"Alternative SVM (C, kernel)\") \n",
    "plt.legend() \n",
    "plt.show()\n"
   ]
  },
  {
   "cell_type": "code",
   "execution_count": 10,
   "metadata": {},
   "outputs": [],
   "source": [
    "# loop through each case and save all results in a list\n",
    "# K: [5,9,15,19]\n",
    "\n",
    "knn_x = [5,9,15,19]\n",
    "knn_sobel_y = []\n",
    "knn_pca_y = []\n",
    "\n",
    "for i in knn_x:\n",
    "    classifier = KNeighborsClassifier(n_neighbors=i)\n",
    "    classifier.fit(x_train_sobel, y_train)\n",
    "    predictions = classifier.predict(x_test_sobel)\n",
    "    accuracy = accuracy_score(y_test, predictions)\n",
    "    knn_sobel_y.append(accuracy)\n",
    "for i in knn_x:\n",
    "    classifier = KNeighborsClassifier(n_neighbors=i)\n",
    "    classifier.fit(X_train_pca, y_train)\n",
    "    predictions = classifier.predict(X_test_pca)\n",
    "    accuracy = accuracy_score(y_test, predictions)\n",
    "    knn_pca_y.append(accuracy)\n"
   ]
  },
  {
   "cell_type": "code",
   "execution_count": 12,
   "metadata": {},
   "outputs": [
    {
     "data": {
      "image/png": "[encoded data removed]",
      "text/plain": [
       "<Figure size 432x288 with 1 Axes>"
      ]
     },
     "metadata": {
      "needs_background": "light"
     },
     "output_type": "display_data"
    }
   ],
   "source": [
    "plt.plot(knn_x, knn_sobel_y, label = \"Sobel\", marker = 'o')\n",
    "plt.plot(knn_x, knn_pca_y, label = \"PCA\", marker = 'o')\n",
    "plt.xlabel(\"K\")\n",
    "plt.ylabel(\"Accuracy\")\n",
    "plt.title(\"Alternative KNN (K)\")\n",
    "plt.legend()\n",
    "plt.show()"
   ]
  },
  {
   "cell_type": "code",
   "execution_count": 14,
   "metadata": {},
   "outputs": [],
   "source": [
    "# loop through each case and save all results in a list\n",
    "# n_estimators: [100,140,160,180]\n",
    "\n",
    "rf_x = [100,140,160,180]\n",
    "rf_sobel_y = []\n",
    "rf_pca_y = []\n",
    "\n",
    "for i in rf_x:\n",
    "    classifier = RandomForestClassifier(n_estimators=i, random_state=42)\n",
    "    classifier.fit(x_train_sobel, y_train)\n",
    "    predictions = classifier.predict(x_test_sobel)\n",
    "    accuracy = accuracy_score(y_test, predictions)\n",
    "    rf_sobel_y.append(accuracy)\n",
    "for i in rf_x:\n",
    "    classifier = RandomForestClassifier(n_estimators=i, random_state=42)\n",
    "    classifier.fit(X_train_pca, y_train)\n",
    "    predictions = classifier.predict(X_test_pca)\n",
    "    accuracy = accuracy_score(y_test, predictions)\n",
    "    rf_pca_y.append(accuracy)\n"
   ]
  },
  {
   "cell_type": "code",
   "execution_count": 15,
   "metadata": {},
   "outputs": [
    {
     "data": {
      "image/png": "[encoded data removed]",
      "text/plain": [
       "<Figure size 432x288 with 1 Axes>"
      ]
     },
     "metadata": {
      "needs_background": "light"
     },
     "output_type": "display_data"
    }
   ],
   "source": [
    "plt.plot(rf_x, rf_sobel_y, label = \"Sobel\", marker = 'o')\n",
    "plt.plot(rf_x, rf_pca_y, label = \"PCA\", marker = 'o')\n",
    "plt.xlabel(\"n_estimators\")\n",
    "plt.ylabel(\"Accuracy\")\n",
    "plt.title(\"Alternative RF (n_estimators)\")\n",
    "plt.legend()\n",
    "plt.show()"
   ]
  }
 ],
 "metadata": {
  "kernelspec": {
   "display_name": "Python 3",
   "language": "python",
   "name": "python3"
  },
  "language_info": {
   "codemirror_mode": {
    "name": "ipython",
    "version": 3
   },
   "file_extension": ".py",
   "mimetype": "text/x-python",
   "name": "python",
   "nbconvert_exporter": "python",
   "pygments_lexer": "ipython3",
   "version": "3.9.4"
  }
 },
 "nbformat": 4,
 "nbformat_minor": 2
}
