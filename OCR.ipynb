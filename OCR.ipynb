{
 "cells": [
  {
   "cell_type": "code",
   "execution_count": 61,
   "metadata": {},
   "outputs": [],
   "source": [
    "import os\n",
    "import cv2\n",
    "import numpy as np\n",
    "from sklearn.model_selection import train_test_split\n",
    "from sklearn.neighbors import KNeighborsClassifier\n",
    "from sklearn.metrics import accuracy_score\n",
    "from sklearn.decomposition import PCA\n",
    "import imutils\n",
    "import matplotlib.pyplot as plt\n",
    "from sklearn.svm import SVC\n",
    "from sklearn.metrics import roc_auc_score\n",
    "\n",
    "def flatten_image(image):\n",
    "    return np.array(image).flatten()\n",
    "\n",
    "def flatten_images(images):\n",
    "    return np.array([flatten_image(image) for image in images])\n",
    "\n",
    "def read_image(class_path, image_file):\n",
    "    image_path = os.path.join(class_path, image_file)\n",
    "    image =  cv2.imread(image_path, cv2.IMREAD_GRAYSCALE)\n",
    "    return image\n",
    "\n",
    "def apply_sobel(image):\n",
    "    gx = cv2.Sobel(image, cv2.CV_64F, 1, 0, ksize=5)\n",
    "    gy = cv2.Sobel(image, cv2.CV_64F, 0, 1, ksize=5)\n",
    "    return [gx, gy]\n",
    "\n",
    "\n",
    "image_size = 32"
   ]
  },
  {
   "cell_type": "code",
   "execution_count": 62,
   "metadata": {},
   "outputs": [],
   "source": [
    "class_labels_list = []\n",
    "images_list = []\n",
    "\n",
    "data_directory = './dataset/'\n",
    "\n",
    "#missing O\n",
    "directories = os.listdir(data_directory)\n",
    "\n",
    "for class_label, class_name in enumerate(directories):\n",
    "    class_path = os.path.join(data_directory, class_name)\n",
    "    for image_file in os.listdir(class_path):\n",
    "        if image_file.endswith('.jpg'):\n",
    "            image = read_image(class_path, image_file)\n",
    "            images_list.append(image)\n",
    "            class_labels_list.append(class_label)\n",
    "\n",
    "data_x = images_list\n",
    "data_y = class_labels_list\n",
    "\n",
    "X_train, X_test, y_train, y_test = train_test_split(data_x,data_y, \n",
    "                                                    test_size=0.25, \n",
    "                                                    random_state=13)"
   ]
  },
  {
   "cell_type": "code",
   "execution_count": 63,
   "metadata": {},
   "outputs": [
    {
     "name": "stdout",
     "output_type": "stream",
     "text": [
      "(3312, 2, 32, 32)\n",
      "(3312, 2048)\n"
     ]
    }
   ],
   "source": [
    "x_train_sobel = [apply_sobel(image) for image in X_train]\n",
    "x_test_sobel = [apply_sobel(image) for image in X_test]\n",
    "\n",
    "print(np.array(x_train_sobel).shape)\n",
    "x_test_sobel = flatten_images(x_test_sobel)\n",
    "x_train_sobel = flatten_images(x_train_sobel)\n",
    "print(np.array(x_train_sobel).shape)"
   ]
  },
  {
   "cell_type": "code",
   "execution_count": 64,
   "metadata": {},
   "outputs": [
    {
     "name": "stdout",
     "output_type": "stream",
     "text": [
      "Accuracy of KNN-Sobel Classifier:  0.7065217391304348\n"
     ]
    }
   ],
   "source": [
    "sobel_knn_classifier = KNeighborsClassifier(n_neighbors=5)\n",
    "sobel_knn_classifier.fit(x_train_sobel, y_train)\n",
    "sobel_knn_predictions = sobel_knn_classifier.predict(x_test_sobel)\n",
    "sobel_knn_accuracy = accuracy_score(y_test, sobel_knn_predictions)\n",
    "\n",
    "print(\"Accuracy of KNN-Sobel Classifier: \", sobel_knn_accuracy)"
   ]
  },
  {
   "cell_type": "code",
   "execution_count": 65,
   "metadata": {},
   "outputs": [
    {
     "name": "stdout",
     "output_type": "stream",
     "text": [
      "Accuracy of SVM-Sobel classifier: 0.7853260869565217\n"
     ]
    }
   ],
   "source": [
    "sobel_svm_classifier = SVC(kernel='rbf', probability=True)\n",
    "sobel_svm_classifier.fit(x_train_sobel, y_train)\n",
    "sobel_svm_predictions = sobel_svm_classifier.predict(x_test_sobel)\n",
    "sobel_svm_accuracy = accuracy_score(y_test, sobel_svm_predictions)\n",
    "print(\"Accuracy of SVM-Sobel classifier:\", sobel_svm_accuracy)"
   ]
  },
  {
   "cell_type": "code",
   "execution_count": 66,
   "metadata": {},
   "outputs": [],
   "source": [
    "X_train_flatten = flatten_images(X_train)\n",
    "X_test_flatten = flatten_images(X_test)\n",
    "\n",
    "pca = PCA(n_components=64).fit(X_train_flatten)\n",
    "X_train_pca = pca.transform(X_train_flatten)\n",
    "X_test_pca = pca.transform(X_test_flatten)\n",
    "\n",
    "# pca_image = X_test_pca[0].reshape((8, 8))\n",
    "# plt.imshow(X_test[0], cmap='gray')\n",
    "# plt.show()\n",
    "# plt.imshow(pca_image, cmap='gray')"
   ]
  },
  {
   "cell_type": "code",
   "execution_count": 67,
   "metadata": {},
   "outputs": [
    {
     "name": "stdout",
     "output_type": "stream",
     "text": [
      "Accuracy of KNN-PCA Classifier: 0.7146739130434783\n"
     ]
    }
   ],
   "source": [
    "pca_knn_classifier = KNeighborsClassifier(n_neighbors=15) \n",
    "pca_knn_classifier.fit(X_train_pca, y_train)\n",
    "pca_knn_predictions = pca_knn_classifier.predict(X_test_pca)\n",
    "pca_knn_accuracy = accuracy_score(y_test, pca_knn_predictions)\n",
    "print(\"Accuracy of KNN-PCA Classifier:\", pca_knn_accuracy)\n",
    "\n",
    "# random_sample = X_test[0]\n",
    "# random_sample_prediction = pca_knn_classifier.predict(pca.transform([flatten_image(random_sample)]))\n",
    "# print(f\"Random Sample Prediction: {directories[random_sample_prediction[0]]}\")"
   ]
  },
  {
   "cell_type": "code",
   "execution_count": 68,
   "metadata": {},
   "outputs": [
    {
     "name": "stdout",
     "output_type": "stream",
     "text": [
      "Accuracy of SVM-PCA Classifier: 0.855072463768116\n"
     ]
    }
   ],
   "source": [
    "pca_svm_classifier = SVC(kernel='rbf', probability=True,C=1000)\n",
    "pca_svm_classifier.fit(X_train_pca, y_train)\n",
    "pca_svm_predictions = pca_svm_classifier.predict(X_test_pca)\n",
    "pca_svm_accuracy = accuracy_score(y_test, pca_svm_predictions)\n",
    "print(\"Accuracy of SVM-PCA Classifier:\", pca_svm_accuracy)"
   ]
  },
  {
   "cell_type": "code",
   "execution_count": 69,
   "metadata": {},
   "outputs": [
    {
     "name": "stdout",
     "output_type": "stream",
     "text": [
      "Area Under the Curve (AUC) for KNN-PCA classifier: 0.9818397712870608\n",
      "Area Under the Curve (AUC) for SVM-PCA classifier: 0.9953626235120008\n",
      "Area Under the Curve (AUC) for KNN-Sobel classifier: 0.9439131668735528\n",
      "Area Under the Curve (AUC) for SVM-Sobel classifier: 0.9919820494471614\n"
     ]
    }
   ],
   "source": [
    "pca_knn_probabilities = pca_knn_classifier.predict_proba(X_test_pca)\n",
    "pca_knn_auc = roc_auc_score(y_test, pca_knn_probabilities, multi_class='ovr')\n",
    "print(\"Area Under the Curve (AUC) for KNN-PCA classifier:\", pca_knn_auc)\n",
    "\n",
    "\n",
    "pca_svm_probabilities = pca_svm_classifier.predict_proba(X_test_pca)\n",
    "pca_svm_auc = roc_auc_score(y_test, pca_svm_probabilities, multi_class='ovr')\n",
    "print(\"Area Under the Curve (AUC) for SVM-PCA classifier:\", pca_svm_auc)\n",
    "\n",
    "sobel_knn_probabilities = sobel_knn_classifier.predict_proba(x_test_sobel)\n",
    "sobel_knn_auc = roc_auc_score(y_test, sobel_knn_probabilities, multi_class='ovr')\n",
    "print(\"Area Under the Curve (AUC) for KNN-Sobel classifier:\", sobel_knn_auc)\n",
    "\n",
    "sobel_svm_probabilities = sobel_svm_classifier.predict_proba(x_test_sobel)\n",
    "sobel_svm_auc = roc_auc_score(y_test, sobel_svm_probabilities, multi_class='ovr')\n",
    "print(\"Area Under the Curve (AUC) for SVM-Sobel classifier:\", sobel_svm_auc)\n"
   ]
  },
  {
   "cell_type": "code",
   "execution_count": 70,
   "metadata": {},
   "outputs": [],
   "source": [
    "# X_train_combined = np.concatenate((X_train_pca, x_train_sobel), axis=1)\n",
    "# X_test_combined = np.concatenate((X_test_pca, x_test_sobel), axis=1)\n",
    "# merged_knn_classifier = KNeighborsClassifier(n_neighbors=5)\n",
    "# merged_knn_classifier.fit(X_train_combined, y_train)\n",
    "# merged_knn_predictions = merged_knn_classifier.predict(X_test_combined)\n",
    "# merged_knn_accuracy = accuracy_score(y_test, merged_knn_predictions)\n",
    "# print(\"Random KNN Combined Classifier:\")\n",
    "# print(f\"Accuracy: {merged_knn_accuracy}\")"
   ]
  },
  {
   "cell_type": "code",
   "execution_count": 73,
   "metadata": {},
   "outputs": [
    {
     "name": "stdout",
     "output_type": "stream",
     "text": [
      "Accuracy: 0.2653985507246377\n"
     ]
    }
   ],
   "source": [
    "svm_classifier = SVC(kernel='rbf')\n",
    "svm_classifier.fit(pca_knn_predictions.reshape(-1, 1), y_test)\n",
    "\n",
    "# Use the SVM classifier for predictions\n",
    "svm_predictions = svm_classifier.predict(pca_knn_predictions.reshape(-1, 1))\n",
    "\n",
    "# Calculate the accuracy of the SVM classifier\n",
    "accuracy = accuracy_score(y_test, svm_predictions)\n",
    "print(\"Accuracy:\", accuracy)"
   ]
  },
  {
   "cell_type": "code",
   "execution_count": 76,
   "metadata": {},
   "outputs": [
    {
     "name": "stdout",
     "output_type": "stream",
     "text": [
      "JfhN4MI2HfL\n",
      "JEAN-MICHEL\n"
     ]
    },
    {
     "data": {
      "text/plain": [
       "<matplotlib.image.AxesImage at 0x1b53d375060>"
      ]
     },
     "execution_count": 76,
     "metadata": {},
     "output_type": "execute_result"
    },
    {
     "data": {
      "image/png": "[encoded data removed]",
      "text/plain": [
       "<Figure size 640x480 with 1 Axes>"
      ]
     },
     "metadata": {},
     "output_type": "display_data"
    }
   ],
   "source": [
    "model = pca_svm_classifier \n",
    "\n",
    "\n",
    "def sort_contours(cnts, method=\"left-to-right\"):\n",
    "    reverse = False\n",
    "    i = 0\n",
    "    if method == \"right-to-left\" or method == \"bottom-to-top\":\n",
    "        reverse = True\n",
    "    if method == \"top-to-bottom\" or method == \"bottom-to-top\":\n",
    "        i = 1\n",
    "    boundingBoxes = [cv2.boundingRect(c) for c in cnts]\n",
    "    (cnts, boundingBoxes) = zip(\n",
    "        *sorted(zip(cnts, boundingBoxes), key=lambda b: b[1][i], reverse=reverse)\n",
    "    )\n",
    "    # return the list of sorted contours and bounding boxes\n",
    "    return (cnts, boundingBoxes)\n",
    "\n",
    "\n",
    "def get_letters(img):\n",
    "    letters = []\n",
    "    image = cv2.imread(img)\n",
    "    gray = cv2.cvtColor(image, cv2.COLOR_BGR2GRAY)\n",
    "    _, thresh1 = cv2.threshold(gray, 127, 255, cv2.THRESH_BINARY_INV)\n",
    "    dilated = cv2.dilate(thresh1, None, iterations=2)\n",
    "    cnts = cv2.findContours(dilated.copy(), cv2.RETR_EXTERNAL, cv2.CHAIN_APPROX_SIMPLE)\n",
    "    cnts = imutils.grab_contours(cnts)\n",
    "    cnts = sort_contours(cnts, method=\"left-to-right\")[0]\n",
    "    for c in cnts:\n",
    "        if cv2.contourArea(c) > 10:\n",
    "            (x, y, w, h) = cv2.boundingRect(c)\n",
    "            cv2.rectangle(image, (x, y), (x + w, y + h), (0, 255, 0), 2)\n",
    "        roi = gray[y : y + h, x : x + w]\n",
    "        thresh = cv2.threshold(roi, 0, 255, cv2.THRESH_BINARY_INV +cv2.THRESH_OTSU)[1]\n",
    "        thresh = cv2.resize(thresh, (image_size,image_size))\n",
    "        thresh = pca.transform([flatten_image(thresh)])\n",
    "        ypred = model.predict(thresh)\n",
    "        [x] = ypred\n",
    "        letters.append(x)\n",
    "    return letters, image\n",
    "\n",
    "\n",
    "def get_word(letter):\n",
    "    word = ''\n",
    "    for letter in letters:\n",
    "        word += directories[letter]\n",
    "    return word\n",
    "    \n",
    "\n",
    "\n",
    "letters, image = get_letters(\n",
    "    \"./misc/words/2.jpg\"\n",
    ")\n",
    "\n",
    "word = get_word(letters)\n",
    "\n",
    "\n",
    "import re\n",
    "def transform_string(input_string):\n",
    "    pattern = r'@_([A-Z])'\n",
    "    \n",
    "    result = re.sub(pattern, lambda match: match.group(1).lower(), input_string)\n",
    "    \n",
    "    result = result.replace('@_', '')\n",
    "    \n",
    "    return result\n",
    "\n",
    "print(transform_string(word))\n",
    "print(\"JEAN-MICHEL\")\n",
    "plt.imshow(image)"
   ]
  }
 ],
 "metadata": {
  "kernelspec": {
   "display_name": "Python 3",
   "language": "python",
   "name": "python3"
  },
  "language_info": {
   "codemirror_mode": {
    "name": "ipython",
    "version": 3
   },
   "file_extension": ".py",
   "mimetype": "text/x-python",
   "name": "python",
   "nbconvert_exporter": "python",
   "pygments_lexer": "ipython3",
   "version": "3.10.1"
  }
 },
 "nbformat": 4,
 "nbformat_minor": 2
}
